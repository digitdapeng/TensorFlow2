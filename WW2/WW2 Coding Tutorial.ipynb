{
 "cells": [
  {
   "cell_type": "code",
   "execution_count": 1,
   "metadata": {},
   "outputs": [
    {
     "name": "stderr",
     "output_type": "stream",
     "text": [
      "C:\\Users\\dwang\\anaconda3\\lib\\site-packages\\tensorflow\\python\\framework\\dtypes.py:523: FutureWarning: Passing (type, 1) or '1type' as a synonym of type is deprecated; in a future version of numpy, it will be understood as (type, (1,)) / '(1,)type'.\n",
      "  _np_qint8 = np.dtype([(\"qint8\", np.int8, 1)])\n",
      "C:\\Users\\dwang\\anaconda3\\lib\\site-packages\\tensorflow\\python\\framework\\dtypes.py:524: FutureWarning: Passing (type, 1) or '1type' as a synonym of type is deprecated; in a future version of numpy, it will be understood as (type, (1,)) / '(1,)type'.\n",
      "  _np_quint8 = np.dtype([(\"quint8\", np.uint8, 1)])\n",
      "C:\\Users\\dwang\\anaconda3\\lib\\site-packages\\tensorflow\\python\\framework\\dtypes.py:525: FutureWarning: Passing (type, 1) or '1type' as a synonym of type is deprecated; in a future version of numpy, it will be understood as (type, (1,)) / '(1,)type'.\n",
      "  _np_qint16 = np.dtype([(\"qint16\", np.int16, 1)])\n",
      "C:\\Users\\dwang\\anaconda3\\lib\\site-packages\\tensorflow\\python\\framework\\dtypes.py:526: FutureWarning: Passing (type, 1) or '1type' as a synonym of type is deprecated; in a future version of numpy, it will be understood as (type, (1,)) / '(1,)type'.\n",
      "  _np_quint16 = np.dtype([(\"quint16\", np.uint16, 1)])\n",
      "C:\\Users\\dwang\\anaconda3\\lib\\site-packages\\tensorflow\\python\\framework\\dtypes.py:527: FutureWarning: Passing (type, 1) or '1type' as a synonym of type is deprecated; in a future version of numpy, it will be understood as (type, (1,)) / '(1,)type'.\n",
      "  _np_qint32 = np.dtype([(\"qint32\", np.int32, 1)])\n",
      "C:\\Users\\dwang\\anaconda3\\lib\\site-packages\\tensorflow\\python\\framework\\dtypes.py:532: FutureWarning: Passing (type, 1) or '1type' as a synonym of type is deprecated; in a future version of numpy, it will be understood as (type, (1,)) / '(1,)type'.\n",
      "  np_resource = np.dtype([(\"resource\", np.ubyte, 1)])\n"
     ]
    },
    {
     "name": "stdout",
     "output_type": "stream",
     "text": [
      "2.0.0-alpha0\n"
     ]
    }
   ],
   "source": [
    "import tensorflow as tf\n",
    "print(tf.__version__)"
   ]
  },
  {
   "cell_type": "markdown",
   "metadata": {},
   "source": [
    "# The Sequential model API"
   ]
  },
  {
   "cell_type": "markdown",
   "metadata": {},
   "source": [
    " ## Coding tutorials\n",
    " #### [1. Building a Sequential model](#coding_tutorial_1)\n",
    " #### [2. Convolutional and pooling layers](#coding_tutorial_2)\n",
    " #### [3. The compile method](#coding_tutorial_3)\n",
    " #### [4. The fit method](#coding_tutorial_4)\n",
    " #### [5. The evaluate and predict methods](#coding_tutorial_5)"
   ]
  },
  {
   "cell_type": "markdown",
   "metadata": {},
   "source": [
    "***\n",
    "<a id=\"coding_tutorial_1\"></a>\n",
    "## Building a Sequential model"
   ]
  },
  {
   "cell_type": "code",
   "execution_count": 2,
   "metadata": {},
   "outputs": [],
   "source": [
    "from tensorflow.keras.models import Sequential\n",
    "from tensorflow.keras.layers import Dense, Flatten, Softmax, Conv2D"
   ]
  },
  {
   "cell_type": "markdown",
   "metadata": {},
   "source": [
    "#### Build a feedforward neural network model"
   ]
  },
  {
   "cell_type": "code",
   "execution_count": 3,
   "metadata": {},
   "outputs": [
    {
     "data": {
      "text/plain": [
       "'\\nthe last layer can also be:\\n    Dense(10),\\n    Softmax()\\n'"
      ]
     },
     "execution_count": 3,
     "metadata": {},
     "output_type": "execute_result"
    }
   ],
   "source": [
    "# Build the Sequential feedforward neural network model\n",
    "model=Sequential([\n",
    "    Flatten(input_shape=(28,28)),\n",
    "    Dense(16, activation='relu', name='Layer_1'),\n",
    "    Dense(16, activation='relu'),\n",
    "    Dense(10, activation='softmax')    \n",
    "])\n",
    "\n",
    "\"\"\"\n",
    "the last layer can also be:\n",
    "    Dense(10),\n",
    "    Softmax()\n",
    "\"\"\""
   ]
  },
  {
   "cell_type": "code",
   "execution_count": 4,
   "metadata": {},
   "outputs": [
    {
     "name": "stdout",
     "output_type": "stream",
     "text": [
      "Model: \"sequential\"\n",
      "_________________________________________________________________\n",
      "Layer (type)                 Output Shape              Param #   \n",
      "=================================================================\n",
      "flatten (Flatten)            (None, 784)               0         \n",
      "_________________________________________________________________\n",
      "Layer_1 (Dense)              (None, 16)                12560     \n",
      "_________________________________________________________________\n",
      "dense (Dense)                (None, 16)                272       \n",
      "_________________________________________________________________\n",
      "dense_1 (Dense)              (None, 10)                170       \n",
      "=================================================================\n",
      "Total params: 13,002\n",
      "Trainable params: 13,002\n",
      "Non-trainable params: 0\n",
      "_________________________________________________________________\n"
     ]
    }
   ],
   "source": [
    "# Print the model summary\n",
    "model.summary()\n"
   ]
  },
  {
   "cell_type": "code",
   "execution_count": 5,
   "metadata": {},
   "outputs": [
    {
     "data": {
      "text/plain": [
       "True"
      ]
     },
     "execution_count": 5,
     "metadata": {},
     "output_type": "execute_result"
    }
   ],
   "source": [
    "model.trainable"
   ]
  },
  {
   "cell_type": "code",
   "execution_count": 9,
   "metadata": {},
   "outputs": [
    {
     "data": {
      "text/plain": [
       "[<tf.Variable 'Layer_1/kernel:0' shape=(784, 16) dtype=float32, numpy=\n",
       " array([[ 1.09632835e-02, -1.41698048e-02,  1.94181502e-02, ...,\n",
       "         -5.05702198e-03, -3.85807194e-02, -1.27540529e-02],\n",
       "        [ 4.89823520e-02,  2.67598554e-02, -8.62390548e-02, ...,\n",
       "          5.04323244e-02,  1.95948109e-02,  5.19204438e-02],\n",
       "        [-3.27512063e-02,  6.17251545e-02,  2.08494440e-02, ...,\n",
       "          3.81240174e-02,  7.17717409e-02, -4.01459783e-02],\n",
       "        ...,\n",
       "        [-1.41889006e-02,  6.40412420e-02,  5.62579632e-02, ...,\n",
       "         -8.56758952e-02,  3.90716344e-02,  4.35858965e-05],\n",
       "        [ 2.27536708e-02, -5.38604371e-02,  7.35933632e-02, ...,\n",
       "          8.26082528e-02, -5.37647381e-02,  3.18652987e-02],\n",
       "        [ 2.76816115e-02,  4.60401773e-02,  6.37128651e-02, ...,\n",
       "          1.84608623e-02,  1.10246465e-02,  5.29168844e-02]], dtype=float32)>,\n",
       " <tf.Variable 'Layer_1/bias:0' shape=(16,) dtype=float32, numpy=\n",
       " array([0., 0., 0., 0., 0., 0., 0., 0., 0., 0., 0., 0., 0., 0., 0., 0.],\n",
       "       dtype=float32)>,\n",
       " <tf.Variable 'dense/kernel:0' shape=(16, 16) dtype=float32, numpy=\n",
       " array([[-0.14397031, -0.32824403, -0.123952  , -0.07166573,  0.032547  ,\n",
       "          0.07034627,  0.1057221 ,  0.21273568,  0.19288626, -0.36864787,\n",
       "          0.42251417, -0.09093371, -0.03869876,  0.2893106 ,  0.3640773 ,\n",
       "         -0.04425091],\n",
       "        [ 0.41228202,  0.32610866,  0.01500186,  0.34080544, -0.06817102,\n",
       "          0.07767525,  0.04150808, -0.23087691,  0.09810391, -0.14230889,\n",
       "          0.01539758,  0.0846279 , -0.2544718 , -0.21542957,  0.426761  ,\n",
       "          0.14307132],\n",
       "        [-0.1702613 , -0.28392878,  0.19146469, -0.01402524,  0.16715845,\n",
       "          0.17338094, -0.3099156 , -0.07390362,  0.06290433, -0.34728912,\n",
       "          0.3820766 , -0.27617663, -0.17438316,  0.3744838 , -0.05142784,\n",
       "         -0.00912482],\n",
       "        [ 0.14665046, -0.07287031,  0.23831406, -0.02796909, -0.08647165,\n",
       "          0.02231258, -0.14947775,  0.39422908,  0.23262951,  0.21947226,\n",
       "          0.03786665,  0.21897092, -0.4258017 , -0.23519206,  0.05402407,\n",
       "         -0.39500242],\n",
       "        [-0.39707267,  0.3499765 , -0.26719326, -0.01988596,  0.01159313,\n",
       "          0.2599844 , -0.41715375,  0.2289671 ,  0.3750728 ,  0.0240193 ,\n",
       "          0.12731239,  0.4248081 ,  0.39386764,  0.12688735, -0.04810098,\n",
       "          0.04024681],\n",
       "        [ 0.31277028,  0.31924495,  0.262525  ,  0.04258889, -0.31388286,\n",
       "         -0.33782163,  0.14124253, -0.36262184,  0.16914806, -0.4185387 ,\n",
       "         -0.32502472,  0.35888878,  0.17614463, -0.07395732, -0.00739145,\n",
       "          0.39203337],\n",
       "        [-0.31022987,  0.09110549,  0.03780234,  0.31104597,  0.12746188,\n",
       "         -0.22228521, -0.16075191, -0.24635078,  0.42468867, -0.1831994 ,\n",
       "          0.08253756,  0.32083294,  0.1981602 , -0.3804894 , -0.07312956,\n",
       "          0.15702882],\n",
       "        [ 0.39259914, -0.3550517 ,  0.41997048,  0.3817226 ,  0.203118  ,\n",
       "         -0.23564126, -0.34298086,  0.03056481,  0.4139749 , -0.02040949,\n",
       "         -0.26428604,  0.11925009, -0.09300438, -0.08981162, -0.41509774,\n",
       "          0.0241909 ],\n",
       "        [ 0.14083144,  0.21789727,  0.12663081, -0.22775777, -0.19915137,\n",
       "         -0.20963481, -0.16990861, -0.30566746,  0.33036813,  0.34321657,\n",
       "          0.32167938, -0.11559704,  0.32461354, -0.13928443,  0.26978764,\n",
       "         -0.2877295 ],\n",
       "        [ 0.37074175, -0.07780719,  0.3096569 , -0.06575328,  0.32658383,\n",
       "         -0.08255181, -0.0265404 ,  0.05239981,  0.2412419 ,  0.05254239,\n",
       "         -0.39421183,  0.40449437,  0.364472  ,  0.38680014,  0.34880844,\n",
       "          0.19832674],\n",
       "        [-0.29108754,  0.38816682, -0.00605389,  0.41091534,  0.37461635,\n",
       "         -0.03237057, -0.04811192, -0.07933015,  0.11611578, -0.05690855,\n",
       "          0.38910213,  0.17819473, -0.11749288, -0.16530594,  0.12134835,\n",
       "          0.33347932],\n",
       "        [ 0.07107243,  0.1773459 ,  0.12002698, -0.20025809, -0.3312345 ,\n",
       "          0.2754424 ,  0.14640573, -0.19305082,  0.3176975 ,  0.09431097,\n",
       "         -0.16932604,  0.07035747, -0.393328  ,  0.3873085 ,  0.3516794 ,\n",
       "         -0.41090783],\n",
       "        [-0.06359634,  0.3190529 ,  0.04006666, -0.42465928, -0.41666532,\n",
       "          0.18512788,  0.01669735,  0.18675146, -0.06854743, -0.30566993,\n",
       "         -0.3428706 ,  0.2303802 ,  0.2930794 , -0.2244115 , -0.2924505 ,\n",
       "          0.17913523],\n",
       "        [ 0.11572698, -0.19370535,  0.2754809 ,  0.22348735,  0.37402257,\n",
       "          0.37032178, -0.05236855,  0.35846105,  0.30425432, -0.09895965,\n",
       "         -0.41374925, -0.06933388, -0.12970144, -0.4214847 ,  0.10656592,\n",
       "          0.28946844],\n",
       "        [-0.3232441 ,  0.00272498,  0.03437793,  0.26307747, -0.0006884 ,\n",
       "         -0.04568273,  0.32498273, -0.16178727,  0.00247958,  0.00215593,\n",
       "         -0.39017284,  0.42185697,  0.13377675,  0.3851259 ,  0.3757712 ,\n",
       "         -0.1362198 ],\n",
       "        [ 0.4169934 ,  0.41005042, -0.19376945,  0.32153973, -0.06578094,\n",
       "          0.20982125, -0.00789669,  0.4280981 ,  0.35876396,  0.11129841,\n",
       "          0.0941588 , -0.05270034, -0.34453255,  0.01920283, -0.20773688,\n",
       "          0.13358054]], dtype=float32)>,\n",
       " <tf.Variable 'dense/bias:0' shape=(16,) dtype=float32, numpy=\n",
       " array([0., 0., 0., 0., 0., 0., 0., 0., 0., 0., 0., 0., 0., 0., 0., 0.],\n",
       "       dtype=float32)>,\n",
       " <tf.Variable 'dense_1/kernel:0' shape=(16, 10) dtype=float32, numpy=\n",
       " array([[-0.2176758 ,  0.44474214,  0.39421093, -0.1851221 ,  0.00680426,\n",
       "         -0.04410225,  0.23006976,  0.40573132, -0.3577897 ,  0.4275427 ],\n",
       "        [ 0.16094667, -0.36416942, -0.43546903,  0.05458277,  0.403441  ,\n",
       "          0.15481114,  0.01955038,  0.46789575, -0.37686008,  0.17174047],\n",
       "        [-0.0107671 ,  0.20182246,  0.01471412, -0.12594792,  0.26899248,\n",
       "          0.08284545, -0.27736366, -0.09928325,  0.16079813, -0.04157189],\n",
       "        [-0.18550569, -0.46892238, -0.43160895, -0.07926777,  0.36130184,\n",
       "          0.27294797,  0.13890535, -0.31435645, -0.4495262 ,  0.09203619],\n",
       "        [-0.14059952,  0.05641133,  0.14327753,  0.21733648, -0.16890073,\n",
       "          0.21028572,  0.4173264 ,  0.07096082, -0.17263314,  0.27496183],\n",
       "        [-0.36771715, -0.2856241 , -0.05167928,  0.15373844,  0.29698473,\n",
       "         -0.15559757, -0.05686051,  0.45528972, -0.29276705,  0.24060625],\n",
       "        [ 0.06395191,  0.14540416, -0.31487057,  0.45477176,  0.4148575 ,\n",
       "         -0.01773605,  0.47519165, -0.2661823 , -0.45613265,  0.2626785 ],\n",
       "        [ 0.24814433,  0.39006716, -0.08384517, -0.20397851,  0.35894543,\n",
       "         -0.3424089 ,  0.30201465, -0.0158647 ,  0.2462241 , -0.06624907],\n",
       "        [-0.31076837,  0.23165977,  0.28584117,  0.22071964, -0.42287272,\n",
       "          0.40360606,  0.3419274 ,  0.39477402, -0.21786445, -0.08257136],\n",
       "        [-0.11791152, -0.13854766,  0.14501506, -0.3038609 ,  0.38548577,\n",
       "          0.05710113, -0.41596538,  0.11060023,  0.02209502,  0.26129323],\n",
       "        [-0.28230965,  0.03708762,  0.19245642,  0.46554607,  0.31372023,\n",
       "         -0.43560222, -0.23654884,  0.15204614, -0.21028548, -0.31359905],\n",
       "        [ 0.43749303,  0.03862268, -0.27142757, -0.1511476 ,  0.38554758,\n",
       "          0.02715111, -0.4136784 , -0.42366016, -0.14062482, -0.18849131],\n",
       "        [-0.37114328, -0.29135644,  0.3705784 , -0.47533885,  0.3953423 ,\n",
       "         -0.24078333,  0.15510839, -0.15239602,  0.10915196,  0.26618665],\n",
       "        [ 0.2869215 , -0.1343064 ,  0.35587013, -0.12780851,  0.0553984 ,\n",
       "         -0.3218012 , -0.16045591,  0.37586695,  0.15035605, -0.2585997 ],\n",
       "        [ 0.41267842,  0.1211592 ,  0.21676737, -0.18847653, -0.24651214,\n",
       "         -0.36708093,  0.41402954,  0.04489297, -0.13408342,  0.2333023 ],\n",
       "        [ 0.219836  ,  0.09707928,  0.08588076,  0.2712568 ,  0.16494125,\n",
       "         -0.41969353,  0.30090666,  0.36731446, -0.27394134, -0.14690763]],\n",
       "       dtype=float32)>,\n",
       " <tf.Variable 'dense_1/bias:0' shape=(10,) dtype=float32, numpy=array([0., 0., 0., 0., 0., 0., 0., 0., 0., 0.], dtype=float32)>]"
      ]
     },
     "execution_count": 9,
     "metadata": {},
     "output_type": "execute_result"
    }
   ],
   "source": [
    "model.weights"
   ]
  },
  {
   "cell_type": "markdown",
   "metadata": {},
   "source": [
    "***\n",
    "<a id=\"coding_tutorial_2\"></a>\n",
    "## Convolutional and pooling layers"
   ]
  },
  {
   "cell_type": "code",
   "execution_count": 7,
   "metadata": {},
   "outputs": [],
   "source": [
    "from tensorflow.keras.models import Sequential\n",
    "from tensorflow.keras.layers import Dense, Flatten, Conv2D, MaxPooling2D"
   ]
  },
  {
   "cell_type": "markdown",
   "metadata": {},
   "source": [
    "#### Build a convolutional neural network model"
   ]
  },
  {
   "cell_type": "code",
   "execution_count": 8,
   "metadata": {},
   "outputs": [],
   "source": [
    "# Build the Sequential convolutional neural network model\n",
    "model1=Sequential([\n",
    "    Conv2D(16,(3,3),activation='relu',input_shape=(28,28,1),data_format='channels_last'),\n",
    "    MaxPooling2D((3,3)),\n",
    "    Flatten(),\n",
    "    Dense(10, activation='softmax')\n",
    "])\n"
   ]
  },
  {
   "cell_type": "code",
   "execution_count": 9,
   "metadata": {},
   "outputs": [
    {
     "name": "stdout",
     "output_type": "stream",
     "text": [
      "Model: \"sequential_1\"\n",
      "_________________________________________________________________\n",
      "Layer (type)                 Output Shape              Param #   \n",
      "=================================================================\n",
      "conv2d_1 (Conv2D)            (None, 26, 26, 16)        160       \n",
      "_________________________________________________________________\n",
      "max_pooling2d (MaxPooling2D) (None, 8, 8, 16)          0         \n",
      "_________________________________________________________________\n",
      "flatten_1 (Flatten)          (None, 1024)              0         \n",
      "_________________________________________________________________\n",
      "dense_2 (Dense)              (None, 10)                10250     \n",
      "=================================================================\n",
      "Total params: 10,410\n",
      "Trainable params: 10,410\n",
      "Non-trainable params: 0\n",
      "_________________________________________________________________\n"
     ]
    }
   ],
   "source": [
    "# Print the model summary\n",
    "model1.summary()\n"
   ]
  },
  {
   "cell_type": "code",
   "execution_count": 16,
   "metadata": {},
   "outputs": [
    {
     "data": {
      "text/plain": [
       "False"
      ]
     },
     "execution_count": 16,
     "metadata": {},
     "output_type": "execute_result"
    }
   ],
   "source": [
    "model1.trainable"
   ]
  },
  {
   "cell_type": "code",
   "execution_count": 27,
   "metadata": {},
   "outputs": [
    {
     "data": {
      "text/plain": [
       "'flatten_1'"
      ]
     },
     "execution_count": 27,
     "metadata": {},
     "output_type": "execute_result"
    }
   ],
   "source": [
    "model1.layers[-2].name"
   ]
  },
  {
   "cell_type": "markdown",
   "metadata": {},
   "source": [
    "***\n",
    "<a id=\"coding_tutorial_3\"></a>\n",
    "## The compile method"
   ]
  },
  {
   "cell_type": "markdown",
   "metadata": {},
   "source": [
    "#### Compile the model"
   ]
  },
  {
   "cell_type": "code",
   "execution_count": 13,
   "metadata": {},
   "outputs": [],
   "source": [
    "# Define the model optimizer, loss function and metrics\n",
    "model.compile(optimizer='adam',\n",
    "             loss='sparse_categorical_crossentropy',\n",
    "             metrics=['accuracy','mae'])\n"
   ]
  },
  {
   "cell_type": "code",
   "execution_count": 14,
   "metadata": {},
   "outputs": [
    {
     "name": "stdout",
     "output_type": "stream",
     "text": [
      "sparse_categorical_crossentropy\n",
      "<tensorflow.python.keras.optimizer_v2.adam.Adam object at 0x00000210E79DB438>\n",
      "[<tensorflow.python.keras.metrics.MeanMetricWrapper object at 0x00000210F29DA7F0>, <tensorflow.python.keras.metrics.MeanMetricWrapper object at 0x00000210F2A26E48>]\n",
      "<tf.Variable 'learning_rate:0' shape=() dtype=float32, numpy=0.001>\n"
     ]
    }
   ],
   "source": [
    "# Print the resulting model attributes\n",
    "print(model.loss)\n",
    "print(model.optimizer)\n",
    "print(model.metrics)\n",
    "print(model.optimizer.lr)"
   ]
  },
  {
   "cell_type": "markdown",
   "metadata": {},
   "source": [
    "***\n",
    "<a id=\"coding_tutorial_4\"></a>\n",
    "## The fit method"
   ]
  },
  {
   "cell_type": "code",
   "execution_count": 15,
   "metadata": {},
   "outputs": [],
   "source": [
    "from tensorflow.keras.preprocessing import image\n",
    "import matplotlib.pyplot as plt\n",
    "import numpy as np\n",
    "import pandas as pd"
   ]
  },
  {
   "cell_type": "markdown",
   "metadata": {},
   "source": [
    "#### Load the data"
   ]
  },
  {
   "cell_type": "code",
   "execution_count": 16,
   "metadata": {},
   "outputs": [],
   "source": [
    "# Load the Fashion-MNIST dataset\n",
    "\n",
    "fashion_mnist_data = tf.keras.datasets.fashion_mnist\n",
    "(train_images, train_labels), (test_images, test_labels) = fashion_mnist_data.load_data()"
   ]
  },
  {
   "cell_type": "code",
   "execution_count": 17,
   "metadata": {},
   "outputs": [
    {
     "data": {
      "text/plain": [
       "(60000, 28, 28)"
      ]
     },
     "execution_count": 17,
     "metadata": {},
     "output_type": "execute_result"
    }
   ],
   "source": [
    "# Print the shape of the training data\n",
    "train_images.shape\n"
   ]
  },
  {
   "cell_type": "code",
   "execution_count": 18,
   "metadata": {},
   "outputs": [
    {
     "data": {
      "text/plain": [
       "(60000,)"
      ]
     },
     "execution_count": 18,
     "metadata": {},
     "output_type": "execute_result"
    }
   ],
   "source": [
    "train_labels.shape"
   ]
  },
  {
   "cell_type": "code",
   "execution_count": 56,
   "metadata": {},
   "outputs": [
    {
     "name": "stdout",
     "output_type": "stream",
     "text": [
      "9\n"
     ]
    }
   ],
   "source": [
    "# Define the labels\n",
    "\n",
    "labels = [\n",
    "    'T-shirt/top',\n",
    "    'Trouser',\n",
    "    'Pullover',\n",
    "    'Dress',\n",
    "    'Coat',\n",
    "    'Sandal',\n",
    "    'Shirt',\n",
    "    'Sneaker',\n",
    "    'Bag',\n",
    "    'Ankle boot'\n",
    "]\n",
    "print(train_labels[0])"
   ]
  },
  {
   "cell_type": "code",
   "execution_count": 19,
   "metadata": {},
   "outputs": [],
   "source": [
    "# Rescale the image values so that they lie in between 0 and 1.\n",
    "train_images=train_images/255.0\n",
    "test_images=test_images/255.0\n"
   ]
  },
  {
   "cell_type": "code",
   "execution_count": 66,
   "metadata": {},
   "outputs": [
    {
     "data": {
      "image/png": "[encoded data removed]",
      "text/plain": [
       "<Figure size 432x288 with 1 Axes>"
      ]
     },
     "metadata": {
      "needs_background": "light"
     },
     "output_type": "display_data"
    },
    {
     "name": "stdout",
     "output_type": "stream",
     "text": [
      "Ankle boot\n"
     ]
    }
   ],
   "source": [
    "# Display one of the images\n",
    "i=0\n",
    "img=train_images[i,:,:]\n",
    "plt.imshow(img)\n",
    "plt.show()\n",
    "print(labels[train_labels[i]])\n"
   ]
  },
  {
   "cell_type": "markdown",
   "metadata": {},
   "source": [
    "#### Fit the model"
   ]
  },
  {
   "cell_type": "code",
   "execution_count": 21,
   "metadata": {},
   "outputs": [
    {
     "name": "stdout",
     "output_type": "stream",
     "text": [
      "Epoch 1/2\n",
      "60000/60000 [==============================] - 1s 21us/sample - loss: 0.9666 - accuracy: 0.6714 - mae: 4.4200\n",
      "Epoch 2/2\n",
      "60000/60000 [==============================] - 1s 16us/sample - loss: 0.5112 - accuracy: 0.8263 - mae: 4.4200\n"
     ]
    }
   ],
   "source": [
    "# Fit the model\n",
    "#history=model.fit(train_images[...,np.newaxis],train_labels, epochs=2, batch_size=256)\n",
    "history=model.fit(train_images,train_labels, epochs=2, batch_size=256)"
   ]
  },
  {
   "cell_type": "code",
   "execution_count": 23,
   "metadata": {},
   "outputs": [
    {
     "data": {
      "text/plain": [
       "array([[0.        , 0.        , 0.        , 0.        , 0.        ,\n",
       "        0.00392157, 0.        , 0.        , 0.        , 0.        ,\n",
       "        0.16078431, 0.7372549 , 0.40392157, 0.21176471, 0.18823529,\n",
       "        0.16862745, 0.34117647, 0.65882353, 0.52156863, 0.0627451 ,\n",
       "        0.        , 0.        , 0.        , 0.        , 0.        ,\n",
       "        0.        , 0.        , 0.        ],\n",
       "       [0.        , 0.        , 0.        , 0.00392157, 0.        ,\n",
       "        0.        , 0.        , 0.19215686, 0.53333333, 0.85882353,\n",
       "        0.84705882, 0.89411765, 0.9254902 , 1.        , 1.        ,\n",
       "        1.        , 1.        , 0.85098039, 0.84313725, 0.99607843,\n",
       "        0.90588235, 0.62745098, 0.17647059, 0.        , 0.        ,\n",
       "        0.        , 0.        , 0.        ],\n",
       "       [0.        , 0.        , 0.        , 0.        , 0.        ,\n",
       "        0.05490196, 0.69019608, 0.87058824, 0.87843137, 0.83137255,\n",
       "        0.79607843, 0.77647059, 0.76862745, 0.78431373, 0.84313725,\n",
       "        0.8       , 0.79215686, 0.78823529, 0.78823529, 0.78823529,\n",
       "        0.81960784, 0.85490196, 0.87843137, 0.64313725, 0.        ,\n",
       "        0.        , 0.        , 0.        ],\n",
       "       [0.        , 0.        , 0.        , 0.        , 0.        ,\n",
       "        0.7372549 , 0.85882353, 0.78431373, 0.77647059, 0.79215686,\n",
       "        0.77647059, 0.78039216, 0.78039216, 0.78823529, 0.76862745,\n",
       "        0.77647059, 0.77647059, 0.78431373, 0.78431373, 0.78431373,\n",
       "        0.78431373, 0.78823529, 0.78431373, 0.88235294, 0.16078431,\n",
       "        0.        , 0.        , 0.        ],\n",
       "       [0.        , 0.        , 0.        , 0.        , 0.2       ,\n",
       "        0.85882353, 0.78039216, 0.79607843, 0.79607843, 0.83137255,\n",
       "        0.93333333, 0.97254902, 0.98039216, 0.96078431, 0.97647059,\n",
       "        0.96470588, 0.96862745, 0.98823529, 0.97254902, 0.92156863,\n",
       "        0.81176471, 0.79607843, 0.79607843, 0.87058824, 0.54901961,\n",
       "        0.        , 0.        , 0.        ],\n",
       "       [0.        , 0.        , 0.        , 0.        , 0.45490196,\n",
       "        0.88627451, 0.80784314, 0.8       , 0.81176471, 0.8       ,\n",
       "        0.39607843, 0.29411765, 0.18431373, 0.28627451, 0.18823529,\n",
       "        0.19607843, 0.17647059, 0.2       , 0.24705882, 0.44313725,\n",
       "        0.87058824, 0.79215686, 0.80784314, 0.8627451 , 0.87843137,\n",
       "        0.        , 0.        , 0.        ],\n",
       "       [0.        , 0.        , 0.        , 0.        , 0.78431373,\n",
       "        0.87058824, 0.81960784, 0.79607843, 0.84313725, 0.78431373,\n",
       "        0.        , 0.2745098 , 0.38431373, 0.        , 0.40392157,\n",
       "        0.23137255, 0.26666667, 0.27843137, 0.19215686, 0.        ,\n",
       "        0.85882353, 0.80784314, 0.83921569, 0.82352941, 0.98039216,\n",
       "        0.14901961, 0.        , 0.        ],\n",
       "       [0.        , 0.        , 0.        , 0.        , 0.96862745,\n",
       "        0.85490196, 0.83137255, 0.82352941, 0.84313725, 0.83921569,\n",
       "        0.        , 0.99607843, 0.95294118, 0.54509804, 1.        ,\n",
       "        0.68235294, 0.98431373, 1.        , 0.80392157, 0.        ,\n",
       "        0.84313725, 0.85098039, 0.83921569, 0.81568627, 0.8627451 ,\n",
       "        0.37254902, 0.        , 0.        ],\n",
       "       [0.        , 0.        , 0.        , 0.17647059, 0.88627451,\n",
       "        0.83921569, 0.83921569, 0.84313725, 0.87843137, 0.80392157,\n",
       "        0.        , 0.16470588, 0.1372549 , 0.23529412, 0.0627451 ,\n",
       "        0.06666667, 0.04705882, 0.05098039, 0.2745098 , 0.        ,\n",
       "        0.74117647, 0.84705882, 0.83137255, 0.80784314, 0.83137255,\n",
       "        0.61176471, 0.        , 0.        ],\n",
       "       [0.        , 0.        , 0.        , 0.64313725, 0.92156863,\n",
       "        0.83921569, 0.82745098, 0.8627451 , 0.84705882, 0.78823529,\n",
       "        0.20392157, 0.27843137, 0.34901961, 0.36862745, 0.3254902 ,\n",
       "        0.30588235, 0.2745098 , 0.29803922, 0.36078431, 0.34117647,\n",
       "        0.80784314, 0.81176471, 0.87058824, 0.83529412, 0.85882353,\n",
       "        0.81568627, 0.        , 0.        ],\n",
       "       [0.        , 0.        , 0.        , 0.41568627, 0.73333333,\n",
       "        0.8745098 , 0.92941176, 0.97254902, 0.82745098, 0.77647059,\n",
       "        0.98823529, 0.98039216, 0.97254902, 0.96078431, 0.97254902,\n",
       "        0.98823529, 0.99215686, 0.98039216, 0.98823529, 0.9372549 ,\n",
       "        0.78823529, 0.83137255, 0.88235294, 0.84313725, 0.75686275,\n",
       "        0.44313725, 0.        , 0.        ],\n",
       "       [0.        , 0.        , 0.        , 0.        , 0.        ,\n",
       "        0.06666667, 0.21176471, 0.62352941, 0.87058824, 0.75686275,\n",
       "        0.81568627, 0.75294118, 0.77254902, 0.78431373, 0.78431373,\n",
       "        0.78431373, 0.78431373, 0.78823529, 0.79607843, 0.76470588,\n",
       "        0.82352941, 0.64705882, 0.        , 0.        , 0.        ,\n",
       "        0.        , 0.        , 0.        ],\n",
       "       [0.        , 0.        , 0.        , 0.        , 0.        ,\n",
       "        0.        , 0.        , 0.18431373, 0.88235294, 0.75294118,\n",
       "        0.83921569, 0.79607843, 0.80784314, 0.8       , 0.8       ,\n",
       "        0.80392157, 0.80784314, 0.8       , 0.83137255, 0.77254902,\n",
       "        0.85490196, 0.41960784, 0.        , 0.        , 0.        ,\n",
       "        0.        , 0.        , 0.        ],\n",
       "       [0.        , 0.        , 0.        , 0.        , 0.00392157,\n",
       "        0.02352941, 0.        , 0.18039216, 0.83137255, 0.76470588,\n",
       "        0.83137255, 0.79215686, 0.80784314, 0.80392157, 0.8       ,\n",
       "        0.80392157, 0.80784314, 0.8       , 0.83137255, 0.78431373,\n",
       "        0.85490196, 0.35686275, 0.        , 0.01176471, 0.00392157,\n",
       "        0.        , 0.        , 0.        ],\n",
       "       [0.        , 0.        , 0.        , 0.        , 0.        ,\n",
       "        0.00392157, 0.        , 0.04313725, 0.77254902, 0.78039216,\n",
       "        0.80392157, 0.79215686, 0.80392157, 0.80784314, 0.8       ,\n",
       "        0.80392157, 0.81176471, 0.8       , 0.80392157, 0.80392157,\n",
       "        0.85490196, 0.30196078, 0.        , 0.01960784, 0.        ,\n",
       "        0.        , 0.        , 0.        ],\n",
       "       [0.        , 0.        , 0.        , 0.        , 0.        ,\n",
       "        0.01176471, 0.        , 0.00784314, 0.74901961, 0.77647059,\n",
       "        0.78823529, 0.80392157, 0.80784314, 0.80392157, 0.80392157,\n",
       "        0.80784314, 0.81960784, 0.80784314, 0.78039216, 0.81960784,\n",
       "        0.85882353, 0.29019608, 0.        , 0.01960784, 0.        ,\n",
       "        0.        , 0.        , 0.        ],\n",
       "       [0.        , 0.        , 0.        , 0.        , 0.        ,\n",
       "        0.00784314, 0.        , 0.        , 0.7372549 , 0.77254902,\n",
       "        0.78431373, 0.81176471, 0.81176471, 0.8       , 0.81176471,\n",
       "        0.81176471, 0.82352941, 0.81568627, 0.77647059, 0.81176471,\n",
       "        0.86666667, 0.28235294, 0.        , 0.01568627, 0.        ,\n",
       "        0.        , 0.        , 0.        ],\n",
       "       [0.        , 0.        , 0.        , 0.        , 0.        ,\n",
       "        0.00784314, 0.        , 0.        , 0.84313725, 0.77647059,\n",
       "        0.79607843, 0.80784314, 0.81568627, 0.80392157, 0.81176471,\n",
       "        0.81176471, 0.82352941, 0.81568627, 0.78431373, 0.79215686,\n",
       "        0.87058824, 0.29411765, 0.        , 0.01568627, 0.        ,\n",
       "        0.        , 0.        , 0.        ],\n",
       "       [0.        , 0.        , 0.        , 0.        , 0.        ,\n",
       "        0.00392157, 0.        , 0.        , 0.83137255, 0.77647059,\n",
       "        0.81960784, 0.80784314, 0.81960784, 0.80784314, 0.81568627,\n",
       "        0.81176471, 0.82745098, 0.80784314, 0.80392157, 0.77647059,\n",
       "        0.86666667, 0.31372549, 0.        , 0.01176471, 0.        ,\n",
       "        0.        , 0.        , 0.        ],\n",
       "       [0.        , 0.        , 0.        , 0.        , 0.        ,\n",
       "        0.00392157, 0.        , 0.        , 0.8       , 0.78823529,\n",
       "        0.80392157, 0.81568627, 0.81176471, 0.80392157, 0.82745098,\n",
       "        0.80392157, 0.82352941, 0.82352941, 0.81960784, 0.76470588,\n",
       "        0.86666667, 0.37647059, 0.        , 0.01176471, 0.        ,\n",
       "        0.        , 0.        , 0.        ],\n",
       "       [0.        , 0.        , 0.        , 0.        , 0.        ,\n",
       "        0.00392157, 0.        , 0.        , 0.79215686, 0.78823529,\n",
       "        0.80392157, 0.81960784, 0.81176471, 0.80392157, 0.83529412,\n",
       "        0.80784314, 0.82352941, 0.81960784, 0.82352941, 0.76078431,\n",
       "        0.85098039, 0.41176471, 0.        , 0.00784314, 0.        ,\n",
       "        0.        , 0.        , 0.        ],\n",
       "       [0.        , 0.        , 0.        , 0.        , 0.        ,\n",
       "        0.00392157, 0.        , 0.        , 0.8       , 0.8       ,\n",
       "        0.80392157, 0.81568627, 0.81176471, 0.80392157, 0.84313725,\n",
       "        0.81176471, 0.82352941, 0.81568627, 0.82745098, 0.75686275,\n",
       "        0.83529412, 0.45098039, 0.        , 0.00784314, 0.        ,\n",
       "        0.        , 0.        , 0.        ],\n",
       "       [0.        , 0.        , 0.        , 0.        , 0.        ,\n",
       "        0.        , 0.        , 0.        , 0.8       , 0.81176471,\n",
       "        0.81176471, 0.81568627, 0.80784314, 0.80784314, 0.84313725,\n",
       "        0.82352941, 0.82352941, 0.81176471, 0.83137255, 0.76470588,\n",
       "        0.82352941, 0.4627451 , 0.        , 0.00784314, 0.        ,\n",
       "        0.        , 0.        , 0.        ],\n",
       "       [0.        , 0.        , 0.        , 0.        , 0.        ,\n",
       "        0.00392157, 0.        , 0.        , 0.77647059, 0.81568627,\n",
       "        0.81568627, 0.81568627, 0.8       , 0.81176471, 0.83137255,\n",
       "        0.83137255, 0.82352941, 0.81176471, 0.82745098, 0.76862745,\n",
       "        0.81176471, 0.4745098 , 0.        , 0.00392157, 0.        ,\n",
       "        0.        , 0.        , 0.        ],\n",
       "       [0.        , 0.        , 0.        , 0.        , 0.        ,\n",
       "        0.00392157, 0.        , 0.        , 0.77647059, 0.82352941,\n",
       "        0.81176471, 0.81568627, 0.80784314, 0.81960784, 0.83529412,\n",
       "        0.83137255, 0.82745098, 0.81176471, 0.82352941, 0.77254902,\n",
       "        0.81176471, 0.48627451, 0.        , 0.00392157, 0.        ,\n",
       "        0.        , 0.        , 0.        ],\n",
       "       [0.        , 0.        , 0.        , 0.        , 0.        ,\n",
       "        0.        , 0.        , 0.        , 0.6745098 , 0.82352941,\n",
       "        0.79607843, 0.78823529, 0.78039216, 0.8       , 0.81176471,\n",
       "        0.80392157, 0.8       , 0.78823529, 0.80392157, 0.77254902,\n",
       "        0.80784314, 0.49803922, 0.        , 0.        , 0.        ,\n",
       "        0.        , 0.        , 0.        ],\n",
       "       [0.        , 0.        , 0.        , 0.        , 0.        ,\n",
       "        0.        , 0.        , 0.        , 0.7372549 , 0.86666667,\n",
       "        0.83921569, 0.91764706, 0.9254902 , 0.93333333, 0.95686275,\n",
       "        0.95686275, 0.95686275, 0.94117647, 0.95294118, 0.83921569,\n",
       "        0.87843137, 0.63529412, 0.        , 0.00784314, 0.        ,\n",
       "        0.        , 0.        , 0.        ],\n",
       "       [0.        , 0.        , 0.        , 0.        , 0.        ,\n",
       "        0.00392157, 0.        , 0.        , 0.54509804, 0.57254902,\n",
       "        0.50980392, 0.52941176, 0.52941176, 0.5372549 , 0.49019608,\n",
       "        0.48627451, 0.49019608, 0.4745098 , 0.46666667, 0.44705882,\n",
       "        0.50980392, 0.29803922, 0.        , 0.        , 0.        ,\n",
       "        0.        , 0.        , 0.        ]])"
      ]
     },
     "execution_count": 23,
     "metadata": {},
     "output_type": "execute_result"
    }
   ],
   "source": [
    "train_images[1]"
   ]
  },
  {
   "cell_type": "code",
   "execution_count": 30,
   "metadata": {},
   "outputs": [
    {
     "data": {
      "text/plain": [
       "array([9, 0, 0, ..., 3, 0, 5], dtype=uint8)"
      ]
     },
     "execution_count": 30,
     "metadata": {},
     "output_type": "execute_result"
    }
   ],
   "source": [
    "train_labels"
   ]
  },
  {
   "cell_type": "markdown",
   "metadata": {},
   "source": [
    "#### Plot training history"
   ]
  },
  {
   "cell_type": "code",
   "execution_count": 68,
   "metadata": {},
   "outputs": [
    {
     "data": {
      "text/html": [
       "<div>\n",
       "<style scoped>\n",
       "    .dataframe tbody tr th:only-of-type {\n",
       "        vertical-align: middle;\n",
       "    }\n",
       "\n",
       "    .dataframe tbody tr th {\n",
       "        vertical-align: top;\n",
       "    }\n",
       "\n",
       "    .dataframe thead th {\n",
       "        text-align: right;\n",
       "    }\n",
       "</style>\n",
       "<table border=\"1\" class=\"dataframe\">\n",
       "  <thead>\n",
       "    <tr style=\"text-align: right;\">\n",
       "      <th></th>\n",
       "      <th>loss</th>\n",
       "      <th>accuracy</th>\n",
       "      <th>mae</th>\n",
       "    </tr>\n",
       "  </thead>\n",
       "  <tbody>\n",
       "    <tr>\n",
       "      <th>0</th>\n",
       "      <td>0.845403</td>\n",
       "      <td>0.722617</td>\n",
       "      <td>4.419999</td>\n",
       "    </tr>\n",
       "    <tr>\n",
       "      <th>1</th>\n",
       "      <td>0.507480</td>\n",
       "      <td>0.819267</td>\n",
       "      <td>4.420001</td>\n",
       "    </tr>\n",
       "    <tr>\n",
       "      <th>2</th>\n",
       "      <td>0.452277</td>\n",
       "      <td>0.838333</td>\n",
       "      <td>4.419999</td>\n",
       "    </tr>\n",
       "    <tr>\n",
       "      <th>3</th>\n",
       "      <td>0.422533</td>\n",
       "      <td>0.849500</td>\n",
       "      <td>4.420001</td>\n",
       "    </tr>\n",
       "    <tr>\n",
       "      <th>4</th>\n",
       "      <td>0.402410</td>\n",
       "      <td>0.857833</td>\n",
       "      <td>4.420000</td>\n",
       "    </tr>\n",
       "  </tbody>\n",
       "</table>\n",
       "</div>"
      ],
      "text/plain": [
       "       loss  accuracy       mae\n",
       "0  0.845403  0.722617  4.419999\n",
       "1  0.507480  0.819267  4.420001\n",
       "2  0.452277  0.838333  4.419999\n",
       "3  0.422533  0.849500  4.420001\n",
       "4  0.402410  0.857833  4.420000"
      ]
     },
     "execution_count": 68,
     "metadata": {},
     "output_type": "execute_result"
    }
   ],
   "source": [
    "# Load the history into a pandas Dataframe\n",
    "df=pd.DataFrame(history.history)\n",
    "df.head()"
   ]
  },
  {
   "cell_type": "code",
   "execution_count": 69,
   "metadata": {},
   "outputs": [
    {
     "data": {
      "text/plain": [
       "[Text(0, 0.5, 'Loss'), Text(0.5, 0, 'Epochs')]"
      ]
     },
     "execution_count": 69,
     "metadata": {},
     "output_type": "execute_result"
    },
    {
     "data": {
      "image/png": "[encoded data removed]",
      "text/plain": [
       "<Figure size 432x288 with 1 Axes>"
      ]
     },
     "metadata": {
      "needs_background": "light"
     },
     "output_type": "display_data"
    }
   ],
   "source": [
    "# Make a plot for the loss\n",
    "loss_plot=df.plot(y='loss',title='Loss vs Epochs', legend=True)\n",
    "loss_plot.set(xlabel='Epochs',ylabel='Loss')\n"
   ]
  },
  {
   "cell_type": "code",
   "execution_count": 70,
   "metadata": {},
   "outputs": [
    {
     "data": {
      "text/plain": [
       "[Text(0, 0.5, 'Accuracy'), Text(0.5, 0, 'Epochs')]"
      ]
     },
     "execution_count": 70,
     "metadata": {},
     "output_type": "execute_result"
    },
    {
     "data": {
      "image/png": "[encoded data removed]",
      "text/plain": [
       "<Figure size 432x288 with 1 Axes>"
      ]
     },
     "metadata": {
      "needs_background": "light"
     },
     "output_type": "display_data"
    }
   ],
   "source": [
    "# Make a plot for the accuracy\n",
    "acc_plot=df.plot(y='accuracy',title='Accuracy vs Epochs', legend=True)\n",
    "acc_plot.set(xlabel='Epochs',ylabel='Accuracy')"
   ]
  },
  {
   "cell_type": "code",
   "execution_count": 71,
   "metadata": {},
   "outputs": [
    {
     "data": {
      "text/plain": [
       "[Text(0, 0.5, 'MAE'), Text(0.5, 0, 'Epochs')]"
      ]
     },
     "execution_count": 71,
     "metadata": {},
     "output_type": "execute_result"
    },
    {
     "data": {
      "image/png": "[encoded data removed]",
      "text/plain": [
       "<Figure size 432x288 with 1 Axes>"
      ]
     },
     "metadata": {
      "needs_background": "light"
     },
     "output_type": "display_data"
    }
   ],
   "source": [
    "# Make a plot for the additional metric\n",
    "mae_plot=df.plot(y='mae',title='MAE vs Epochs', legend=True)\n",
    "mae_plot.set(xlabel='Epochs',ylabel='MAE')\n"
   ]
  },
  {
   "cell_type": "markdown",
   "metadata": {},
   "source": [
    "***\n",
    "<a id=\"coding_tutorial_5\"></a>\n",
    "## The evaluate and predict methods"
   ]
  },
  {
   "cell_type": "code",
   "execution_count": 72,
   "metadata": {},
   "outputs": [],
   "source": [
    "import matplotlib.pyplot as plt\n",
    "import numpy as np"
   ]
  },
  {
   "cell_type": "markdown",
   "metadata": {},
   "source": [
    "#### Evaluate the model on the test set"
   ]
  },
  {
   "cell_type": "code",
   "execution_count": 73,
   "metadata": {},
   "outputs": [
    {
     "name": "stdout",
     "output_type": "stream",
     "text": [
      "10000/1 - 5s - loss: 0.2941 - accuracy: 0.8600 - mae: 4.4200\n"
     ]
    },
    {
     "data": {
      "text/plain": [
       "[0.3902750833749771, 0.86, 4.419997]"
      ]
     },
     "execution_count": 73,
     "metadata": {},
     "output_type": "execute_result"
    }
   ],
   "source": [
    "# Evaluate the model\n",
    "model.evaluate(test_images[...,np.newaxis],test_labels,verbose=2)\n"
   ]
  },
  {
   "cell_type": "markdown",
   "metadata": {},
   "source": [
    "#### Make predictions from the model"
   ]
  },
  {
   "cell_type": "code",
   "execution_count": 74,
   "metadata": {},
   "outputs": [
    {
     "data": {
      "image/png": "[encoded data removed]",
      "text/plain": [
       "<Figure size 432x288 with 1 Axes>"
      ]
     },
     "metadata": {
      "needs_background": "light"
     },
     "output_type": "display_data"
    },
    {
     "name": "stdout",
     "output_type": "stream",
     "text": [
      "Label: Bag\n"
     ]
    }
   ],
   "source": [
    "# Choose a random test image\n",
    "\n",
    "random_inx = np.random.choice(test_images.shape[0])\n",
    "random_inx=30\n",
    "test_image = test_images[random_inx]\n",
    "plt.imshow(test_image)\n",
    "plt.show()\n",
    "print(f\"Label: {labels[test_labels[random_inx]]}\")"
   ]
  },
  {
   "cell_type": "code",
   "execution_count": 75,
   "metadata": {
    "scrolled": false
   },
   "outputs": [
    {
     "data": {
      "text/plain": [
       "array([[4.6192795e-07, 2.4217135e-09, 3.1308759e-06, 9.1956241e-07,\n",
       "        8.9202431e-06, 3.7206442e-07, 2.9897428e-06, 3.3344943e-08,\n",
       "        9.9998319e-01, 2.3324832e-08]], dtype=float32)"
      ]
     },
     "execution_count": 75,
     "metadata": {},
     "output_type": "execute_result"
    }
   ],
   "source": [
    "# Get the model predictions\n",
    "prediction=model.predict(test_image[np.newaxis,...,np.newaxis])\n",
    "prediction"
   ]
  },
  {
   "cell_type": "code",
   "execution_count": 76,
   "metadata": {},
   "outputs": [
    {
     "name": "stdout",
     "output_type": "stream",
     "text": [
      "model prediction: Bag\n"
     ]
    }
   ],
   "source": [
    "print(f\"model prediction: {labels[np.argmax(prediction)]}\")"
   ]
  }
 ],
 "metadata": {
  "kernelspec": {
   "display_name": "Python 3",
   "language": "python",
   "name": "python3"
  },
  "language_info": {
   "codemirror_mode": {
    "name": "ipython",
    "version": 3
   },
   "file_extension": ".py",
   "mimetype": "text/x-python",
   "name": "python",
   "nbconvert_exporter": "python",
   "pygments_lexer": "ipython3",
   "version": "3.7.1"
  }
 },
 "nbformat": 4,
 "nbformat_minor": 2
}
