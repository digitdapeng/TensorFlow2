{
 "cells": [
  {
   "cell_type": "code",
   "execution_count": 1,
   "metadata": {
    "scrolled": true
   },
   "outputs": [
    {
     "name": "stdout",
     "output_type": "stream",
     "text": [
      "2.0.0\n"
     ]
    }
   ],
   "source": [
    "import tensorflow as tf\n",
    "print(tf.__version__)"
   ]
  },
  {
   "cell_type": "markdown",
   "metadata": {},
   "source": [
    "# Validation, regularisation and callbacks"
   ]
  },
  {
   "cell_type": "markdown",
   "metadata": {},
   "source": [
    " ## Coding tutorials\n",
    " #### [1. Validation sets](#coding_tutorial_1)\n",
    " #### [2. Model regularisation](#coding_tutorial_2)\n",
    " #### [3. Introduction to callbacks](#coding_tutorial_3)\n",
    " #### [4. Early stopping / patience](#coding_tutorial_4)"
   ]
  },
  {
   "cell_type": "markdown",
   "metadata": {},
   "source": [
    "***\n",
    "<a id=\"coding_tutorial_1\"></a>\n",
    "## Validation sets"
   ]
  },
  {
   "cell_type": "markdown",
   "metadata": {},
   "source": [
    "#### Load the data"
   ]
  },
  {
   "cell_type": "code",
   "execution_count": 2,
   "metadata": {},
   "outputs": [
    {
     "name": "stdout",
     "output_type": "stream",
     "text": [
      ".. _diabetes_dataset:\n",
      "\n",
      "Diabetes dataset\n",
      "----------------\n",
      "\n",
      "Ten baseline variables, age, sex, body mass index, average blood\n",
      "pressure, and six blood serum measurements were obtained for each of n =\n",
      "442 diabetes patients, as well as the response of interest, a\n",
      "quantitative measure of disease progression one year after baseline.\n",
      "\n",
      "**Data Set Characteristics:**\n",
      "\n",
      "  :Number of Instances: 442\n",
      "\n",
      "  :Number of Attributes: First 10 columns are numeric predictive values\n",
      "\n",
      "  :Target: Column 11 is a quantitative measure of disease progression one year after baseline\n",
      "\n",
      "  :Attribute Information:\n",
      "      - Age\n",
      "      - Sex\n",
      "      - Body mass index\n",
      "      - Average blood pressure\n",
      "      - S1\n",
      "      - S2\n",
      "      - S3\n",
      "      - S4\n",
      "      - S5\n",
      "      - S6\n",
      "\n",
      "Note: Each of these 10 feature variables have been mean centered and scaled by the standard deviation times `n_samples` (i.e. the sum of squares of each column totals 1).\n",
      "\n",
      "Source URL:\n",
      "http://www4.stat.ncsu.edu/~boos/var.select/diabetes.html\n",
      "\n",
      "For more information see:\n",
      "Bradley Efron, Trevor Hastie, Iain Johnstone and Robert Tibshirani (2004) \"Least Angle Regression,\" Annals of Statistics (with discussion), 407-499.\n",
      "(http://web.stanford.edu/~hastie/Papers/LARS/LeastAngle_2002.pdf)\n"
     ]
    }
   ],
   "source": [
    "# Load the diabetes dataset\n",
    "from sklearn.datasets import load_diabetes\n",
    "diabetes_dataset=load_diabetes()\n",
    "print(diabetes_dataset['DESCR'])\n"
   ]
  },
  {
   "cell_type": "code",
   "execution_count": 3,
   "metadata": {},
   "outputs": [
    {
     "name": "stdout",
     "output_type": "stream",
     "text": [
      "dict_keys(['data', 'target', 'DESCR', 'feature_names', 'data_filename', 'target_filename'])\n"
     ]
    }
   ],
   "source": [
    "# Save the input and target variables\n",
    "print(diabetes_dataset.keys())\n",
    "data=diabetes_dataset['data']\n",
    "targets=diabetes_dataset['target']"
   ]
  },
  {
   "cell_type": "code",
   "execution_count": 4,
   "metadata": {},
   "outputs": [],
   "source": [
    "# Normalise the target data (this will make clearer training curves)\n",
    "targets=(targets-targets.mean(axis=0))/targets.std()\n"
   ]
  },
  {
   "cell_type": "code",
   "execution_count": 5,
   "metadata": {},
   "outputs": [
    {
     "name": "stdout",
     "output_type": "stream",
     "text": [
      "(397, 10)\n",
      "(45, 10)\n",
      "(397,)\n",
      "(45,)\n"
     ]
    }
   ],
   "source": [
    "# Split the data into train and test sets\n",
    "from sklearn.model_selection import train_test_split\n",
    "train_data,test_data,train_targets,test_targets=train_test_split(data,targets,test_size=0.1)\n",
    "print(train_data.shape)\n",
    "print(test_data.shape)\n",
    "print(train_targets.shape)\n",
    "print(test_targets.shape)"
   ]
  },
  {
   "cell_type": "markdown",
   "metadata": {},
   "source": [
    "#### Train a feedforward neural network model"
   ]
  },
  {
   "cell_type": "code",
   "execution_count": 6,
   "metadata": {},
   "outputs": [],
   "source": [
    "# Build the model\n",
    "from tensorflow.keras.models import Sequential\n",
    "from tensorflow.keras.layers import Dense\n",
    "\n",
    "def get_model():\n",
    "    model=Sequential([\n",
    "        Dense(128,activation='relu',input_shape=(train_data.shape[1],)),\n",
    "        Dense(128,activation='relu'),\n",
    "        Dense(128,activation='relu'),\n",
    "        Dense(128,activation='relu'),\n",
    "        Dense(128,activation='relu'),\n",
    "        Dense(128,activation='relu'),\n",
    "        Dense(1)\n",
    "    ])\n",
    "    return model\n",
    "\n",
    "model=get_model()\n"
   ]
  },
  {
   "cell_type": "code",
   "execution_count": 7,
   "metadata": {},
   "outputs": [
    {
     "name": "stdout",
     "output_type": "stream",
     "text": [
      "Model: \"sequential\"\n",
      "_________________________________________________________________\n",
      "Layer (type)                 Output Shape              Param #   \n",
      "=================================================================\n",
      "dense (Dense)                (None, 128)               1408      \n",
      "_________________________________________________________________\n",
      "dense_1 (Dense)              (None, 128)               16512     \n",
      "_________________________________________________________________\n",
      "dense_2 (Dense)              (None, 128)               16512     \n",
      "_________________________________________________________________\n",
      "dense_3 (Dense)              (None, 128)               16512     \n",
      "_________________________________________________________________\n",
      "dense_4 (Dense)              (None, 128)               16512     \n",
      "_________________________________________________________________\n",
      "dense_5 (Dense)              (None, 128)               16512     \n",
      "_________________________________________________________________\n",
      "dense_6 (Dense)              (None, 1)                 129       \n",
      "=================================================================\n",
      "Total params: 84,097\n",
      "Trainable params: 84,097\n",
      "Non-trainable params: 0\n",
      "_________________________________________________________________\n"
     ]
    }
   ],
   "source": [
    "# Print the model summary\n",
    "model.summary()\n"
   ]
  },
  {
   "cell_type": "code",
   "execution_count": 8,
   "metadata": {},
   "outputs": [],
   "source": [
    "# Compile the model\n",
    "model.compile(optimizer='adam', loss='mse',metrics=['mae'])\n"
   ]
  },
  {
   "cell_type": "code",
   "execution_count": 15,
   "metadata": {},
   "outputs": [
    {
     "name": "stdout",
     "output_type": "stream",
     "text": [
      "Train on 337 samples, validate on 60 samples\n",
      "Epoch 1/100\n",
      "337/337 - 2s - loss: 1.0306 - mae: 0.8649 - val_loss: 0.8204 - val_mae: 0.7713\n",
      "Epoch 2/100\n",
      "337/337 - 0s - loss: 0.9660 - mae: 0.8390 - val_loss: 0.7002 - val_mae: 0.7108\n",
      "Epoch 3/100\n",
      "337/337 - 0s - loss: 0.8343 - mae: 0.7705 - val_loss: 0.5188 - val_mae: 0.6020\n",
      "Epoch 4/100\n",
      "337/337 - 0s - loss: 0.6439 - mae: 0.6668 - val_loss: 0.4982 - val_mae: 0.5766\n",
      "Epoch 5/100\n",
      "337/337 - 0s - loss: 0.5488 - mae: 0.6023 - val_loss: 0.4546 - val_mae: 0.5503\n",
      "Epoch 6/100\n",
      "337/337 - 0s - loss: 0.5103 - mae: 0.5841 - val_loss: 0.4929 - val_mae: 0.5839\n",
      "Epoch 7/100\n",
      "337/337 - 0s - loss: 0.5076 - mae: 0.5593 - val_loss: 0.7627 - val_mae: 0.7060\n",
      "Epoch 8/100\n",
      "337/337 - 0s - loss: 0.5496 - mae: 0.5884 - val_loss: 0.5048 - val_mae: 0.5805\n",
      "Epoch 9/100\n",
      "337/337 - 0s - loss: 0.4874 - mae: 0.5550 - val_loss: 0.5582 - val_mae: 0.6155\n",
      "Epoch 10/100\n",
      "337/337 - 0s - loss: 0.4718 - mae: 0.5556 - val_loss: 0.4575 - val_mae: 0.5547\n",
      "Epoch 11/100\n",
      "337/337 - 0s - loss: 0.5005 - mae: 0.5559 - val_loss: 0.4546 - val_mae: 0.5421\n",
      "Epoch 12/100\n",
      "337/337 - 0s - loss: 0.4356 - mae: 0.5222 - val_loss: 0.4915 - val_mae: 0.5668\n",
      "Epoch 13/100\n",
      "337/337 - 0s - loss: 0.4251 - mae: 0.5115 - val_loss: 0.5017 - val_mae: 0.5765\n",
      "Epoch 14/100\n",
      "337/337 - 0s - loss: 0.4191 - mae: 0.5097 - val_loss: 0.5275 - val_mae: 0.5959\n",
      "Epoch 15/100\n",
      "337/337 - 0s - loss: 0.4108 - mae: 0.5022 - val_loss: 0.5107 - val_mae: 0.5795\n",
      "Epoch 16/100\n",
      "337/337 - 0s - loss: 0.4051 - mae: 0.4972 - val_loss: 0.5607 - val_mae: 0.6037\n",
      "Epoch 17/100\n",
      "337/337 - 0s - loss: 0.4102 - mae: 0.5040 - val_loss: 0.5388 - val_mae: 0.6030\n",
      "Epoch 18/100\n",
      "337/337 - 0s - loss: 0.4082 - mae: 0.5014 - val_loss: 0.5624 - val_mae: 0.6013\n",
      "Epoch 19/100\n",
      "337/337 - 0s - loss: 0.3923 - mae: 0.4924 - val_loss: 0.5082 - val_mae: 0.5777\n",
      "Epoch 20/100\n",
      "337/337 - 0s - loss: 0.3841 - mae: 0.4816 - val_loss: 0.5166 - val_mae: 0.5906\n",
      "Epoch 21/100\n",
      "337/337 - 0s - loss: 0.4229 - mae: 0.5084 - val_loss: 0.5659 - val_mae: 0.6036\n",
      "Epoch 22/100\n",
      "337/337 - 0s - loss: 0.4065 - mae: 0.5093 - val_loss: 0.4761 - val_mae: 0.5574\n",
      "Epoch 23/100\n",
      "337/337 - 0s - loss: 0.4057 - mae: 0.4982 - val_loss: 0.6409 - val_mae: 0.6491\n",
      "Epoch 24/100\n",
      "337/337 - 0s - loss: 0.3795 - mae: 0.4854 - val_loss: 0.5476 - val_mae: 0.5931\n",
      "Epoch 25/100\n",
      "337/337 - 0s - loss: 0.4250 - mae: 0.5047 - val_loss: 0.6457 - val_mae: 0.6532\n",
      "Epoch 26/100\n",
      "337/337 - 0s - loss: 0.3781 - mae: 0.4870 - val_loss: 0.5185 - val_mae: 0.5895\n",
      "Epoch 27/100\n",
      "337/337 - 0s - loss: 0.3472 - mae: 0.4597 - val_loss: 0.5751 - val_mae: 0.6147\n",
      "Epoch 28/100\n",
      "337/337 - 0s - loss: 0.3309 - mae: 0.4469 - val_loss: 0.5628 - val_mae: 0.6030\n",
      "Epoch 29/100\n",
      "337/337 - 0s - loss: 0.3318 - mae: 0.4463 - val_loss: 0.5849 - val_mae: 0.6102\n",
      "Epoch 30/100\n",
      "337/337 - 0s - loss: 0.3655 - mae: 0.4613 - val_loss: 0.6333 - val_mae: 0.6534\n",
      "Epoch 31/100\n",
      "337/337 - 0s - loss: 0.3119 - mae: 0.4408 - val_loss: 0.5714 - val_mae: 0.6120\n",
      "Epoch 32/100\n",
      "337/337 - 0s - loss: 0.3002 - mae: 0.4281 - val_loss: 0.6548 - val_mae: 0.6696\n",
      "Epoch 33/100\n",
      "337/337 - 0s - loss: 0.2974 - mae: 0.4211 - val_loss: 0.6858 - val_mae: 0.6725\n",
      "Epoch 34/100\n",
      "337/337 - 0s - loss: 0.2835 - mae: 0.4119 - val_loss: 0.6463 - val_mae: 0.6368\n",
      "Epoch 35/100\n",
      "337/337 - 0s - loss: 0.2886 - mae: 0.4175 - val_loss: 0.6842 - val_mae: 0.6734\n",
      "Epoch 36/100\n",
      "337/337 - 0s - loss: 0.2641 - mae: 0.4021 - val_loss: 0.6967 - val_mae: 0.6790\n",
      "Epoch 37/100\n",
      "337/337 - 0s - loss: 0.2808 - mae: 0.4163 - val_loss: 0.6537 - val_mae: 0.6334\n",
      "Epoch 38/100\n",
      "337/337 - 0s - loss: 0.2849 - mae: 0.4141 - val_loss: 0.7602 - val_mae: 0.7195\n",
      "Epoch 39/100\n",
      "337/337 - 0s - loss: 0.2711 - mae: 0.3989 - val_loss: 0.7973 - val_mae: 0.7313\n",
      "Epoch 40/100\n",
      "337/337 - 0s - loss: 0.2359 - mae: 0.3723 - val_loss: 0.7260 - val_mae: 0.6803\n",
      "Epoch 41/100\n",
      "337/337 - 0s - loss: 0.2296 - mae: 0.3739 - val_loss: 0.7500 - val_mae: 0.6931\n",
      "Epoch 42/100\n",
      "337/337 - 0s - loss: 0.2380 - mae: 0.3727 - val_loss: 0.7823 - val_mae: 0.7058\n",
      "Epoch 43/100\n",
      "337/337 - 0s - loss: 0.2331 - mae: 0.3786 - val_loss: 0.9139 - val_mae: 0.7830\n",
      "Epoch 44/100\n",
      "337/337 - 0s - loss: 0.2713 - mae: 0.4016 - val_loss: 0.8449 - val_mae: 0.7592\n",
      "Epoch 45/100\n",
      "337/337 - 0s - loss: 0.2578 - mae: 0.3942 - val_loss: 0.7244 - val_mae: 0.6704\n",
      "Epoch 46/100\n",
      "337/337 - 0s - loss: 0.2304 - mae: 0.3692 - val_loss: 0.8315 - val_mae: 0.7318\n",
      "Epoch 47/100\n",
      "337/337 - 0s - loss: 0.2052 - mae: 0.3518 - val_loss: 0.8669 - val_mae: 0.7561\n",
      "Epoch 48/100\n",
      "337/337 - 0s - loss: 0.1839 - mae: 0.3316 - val_loss: 0.7468 - val_mae: 0.6899\n",
      "Epoch 49/100\n",
      "337/337 - 0s - loss: 0.1688 - mae: 0.3196 - val_loss: 0.9498 - val_mae: 0.7955\n",
      "Epoch 50/100\n",
      "337/337 - 0s - loss: 0.1668 - mae: 0.3138 - val_loss: 0.9027 - val_mae: 0.7557\n",
      "Epoch 51/100\n",
      "337/337 - 0s - loss: 0.1599 - mae: 0.3078 - val_loss: 0.8717 - val_mae: 0.7385\n",
      "Epoch 52/100\n",
      "337/337 - 0s - loss: 0.1493 - mae: 0.3044 - val_loss: 0.8105 - val_mae: 0.7157\n",
      "Epoch 53/100\n",
      "337/337 - 0s - loss: 0.1592 - mae: 0.3073 - val_loss: 1.0215 - val_mae: 0.8196\n",
      "Epoch 54/100\n",
      "337/337 - 0s - loss: 0.1763 - mae: 0.3336 - val_loss: 0.9166 - val_mae: 0.7677\n",
      "Epoch 55/100\n",
      "337/337 - 0s - loss: 0.1601 - mae: 0.3141 - val_loss: 0.7334 - val_mae: 0.6737\n",
      "Epoch 56/100\n",
      "337/337 - 0s - loss: 0.1640 - mae: 0.3165 - val_loss: 0.7921 - val_mae: 0.7112\n",
      "Epoch 57/100\n",
      "337/337 - 0s - loss: 0.1612 - mae: 0.3159 - val_loss: 0.8223 - val_mae: 0.7141\n",
      "Epoch 58/100\n",
      "337/337 - 0s - loss: 0.1229 - mae: 0.2710 - val_loss: 0.9605 - val_mae: 0.7826\n",
      "Epoch 59/100\n",
      "337/337 - 0s - loss: 0.1184 - mae: 0.2645 - val_loss: 0.9707 - val_mae: 0.7755\n",
      "Epoch 60/100\n",
      "337/337 - 0s - loss: 0.1129 - mae: 0.2560 - val_loss: 0.8832 - val_mae: 0.7373\n",
      "Epoch 61/100\n",
      "337/337 - 0s - loss: 0.1141 - mae: 0.2662 - val_loss: 0.8790 - val_mae: 0.7348\n",
      "Epoch 62/100\n",
      "337/337 - 0s - loss: 0.1256 - mae: 0.2776 - val_loss: 0.9148 - val_mae: 0.7625\n",
      "Epoch 63/100\n",
      "337/337 - 0s - loss: 0.1048 - mae: 0.2482 - val_loss: 0.9206 - val_mae: 0.7480\n",
      "Epoch 64/100\n",
      "337/337 - 0s - loss: 0.0972 - mae: 0.2384 - val_loss: 0.8520 - val_mae: 0.7255\n",
      "Epoch 65/100\n",
      "337/337 - 0s - loss: 0.0959 - mae: 0.2415 - val_loss: 0.8918 - val_mae: 0.7309\n",
      "Epoch 66/100\n",
      "337/337 - 0s - loss: 0.0854 - mae: 0.2228 - val_loss: 0.9627 - val_mae: 0.7618\n",
      "Epoch 67/100\n",
      "337/337 - 0s - loss: 0.0814 - mae: 0.2197 - val_loss: 0.8862 - val_mae: 0.7283\n",
      "Epoch 68/100\n",
      "337/337 - 0s - loss: 0.0699 - mae: 0.1987 - val_loss: 0.9679 - val_mae: 0.7674\n",
      "Epoch 69/100\n",
      "337/337 - 0s - loss: 0.0647 - mae: 0.1950 - val_loss: 0.9498 - val_mae: 0.7522\n",
      "Epoch 70/100\n",
      "337/337 - 0s - loss: 0.0628 - mae: 0.1900 - val_loss: 0.9484 - val_mae: 0.7553\n",
      "Epoch 71/100\n",
      "337/337 - 0s - loss: 0.0734 - mae: 0.2106 - val_loss: 0.9633 - val_mae: 0.7735\n",
      "Epoch 72/100\n",
      "337/337 - 0s - loss: 0.0601 - mae: 0.1826 - val_loss: 0.9375 - val_mae: 0.7450\n",
      "Epoch 73/100\n",
      "337/337 - 0s - loss: 0.0595 - mae: 0.1854 - val_loss: 0.9885 - val_mae: 0.7716\n",
      "Epoch 74/100\n",
      "337/337 - 0s - loss: 0.0516 - mae: 0.1732 - val_loss: 0.9807 - val_mae: 0.7664\n",
      "Epoch 75/100\n",
      "337/337 - 0s - loss: 0.0456 - mae: 0.1604 - val_loss: 1.0260 - val_mae: 0.7856\n",
      "Epoch 76/100\n",
      "337/337 - 0s - loss: 0.0419 - mae: 0.1530 - val_loss: 0.9524 - val_mae: 0.7585\n",
      "Epoch 77/100\n",
      "337/337 - 0s - loss: 0.0464 - mae: 0.1668 - val_loss: 0.9912 - val_mae: 0.7789\n",
      "Epoch 78/100\n",
      "337/337 - 0s - loss: 0.0551 - mae: 0.1841 - val_loss: 1.0470 - val_mae: 0.7868\n",
      "Epoch 79/100\n",
      "337/337 - 0s - loss: 0.0664 - mae: 0.1990 - val_loss: 1.0348 - val_mae: 0.7751\n",
      "Epoch 80/100\n",
      "337/337 - 0s - loss: 0.0585 - mae: 0.1834 - val_loss: 1.0248 - val_mae: 0.7805\n",
      "Epoch 81/100\n",
      "337/337 - 0s - loss: 0.0481 - mae: 0.1668 - val_loss: 1.0294 - val_mae: 0.7752\n",
      "Epoch 82/100\n",
      "337/337 - 0s - loss: 0.0435 - mae: 0.1558 - val_loss: 0.9992 - val_mae: 0.7668\n",
      "Epoch 83/100\n",
      "337/337 - 0s - loss: 0.0375 - mae: 0.1440 - val_loss: 1.0076 - val_mae: 0.7719\n",
      "Epoch 84/100\n",
      "337/337 - 0s - loss: 0.0310 - mae: 0.1316 - val_loss: 1.0186 - val_mae: 0.7791\n",
      "Epoch 85/100\n",
      "337/337 - 0s - loss: 0.0307 - mae: 0.1312 - val_loss: 1.0074 - val_mae: 0.7690\n",
      "Epoch 86/100\n",
      "337/337 - 0s - loss: 0.0284 - mae: 0.1275 - val_loss: 0.9919 - val_mae: 0.7634\n",
      "Epoch 87/100\n",
      "337/337 - 0s - loss: 0.0300 - mae: 0.1312 - val_loss: 1.0177 - val_mae: 0.7694\n",
      "Epoch 88/100\n",
      "337/337 - 0s - loss: 0.0274 - mae: 0.1226 - val_loss: 1.0007 - val_mae: 0.7644\n",
      "Epoch 89/100\n",
      "337/337 - 0s - loss: 0.0222 - mae: 0.1125 - val_loss: 1.0302 - val_mae: 0.7720\n"
     ]
    },
    {
     "name": "stdout",
     "output_type": "stream",
     "text": [
      "Epoch 90/100\n",
      "337/337 - 0s - loss: 0.0230 - mae: 0.1128 - val_loss: 0.9874 - val_mae: 0.7657\n",
      "Epoch 91/100\n",
      "337/337 - 0s - loss: 0.0261 - mae: 0.1233 - val_loss: 0.9496 - val_mae: 0.7612\n",
      "Epoch 92/100\n",
      "337/337 - 0s - loss: 0.0275 - mae: 0.1259 - val_loss: 1.0273 - val_mae: 0.7768\n",
      "Epoch 93/100\n",
      "337/337 - 0s - loss: 0.0242 - mae: 0.1188 - val_loss: 1.0233 - val_mae: 0.7673\n",
      "Epoch 94/100\n",
      "337/337 - 0s - loss: 0.0187 - mae: 0.1006 - val_loss: 1.0098 - val_mae: 0.7720\n",
      "Epoch 95/100\n",
      "337/337 - 0s - loss: 0.0170 - mae: 0.0972 - val_loss: 1.0204 - val_mae: 0.7732\n",
      "Epoch 96/100\n",
      "337/337 - 0s - loss: 0.0144 - mae: 0.0868 - val_loss: 1.0526 - val_mae: 0.7849\n",
      "Epoch 97/100\n",
      "337/337 - 0s - loss: 0.0139 - mae: 0.0872 - val_loss: 1.0244 - val_mae: 0.7792\n",
      "Epoch 98/100\n",
      "337/337 - 0s - loss: 0.0131 - mae: 0.0845 - val_loss: 1.0475 - val_mae: 0.7848\n",
      "Epoch 99/100\n",
      "337/337 - 0s - loss: 0.0131 - mae: 0.0854 - val_loss: 0.9793 - val_mae: 0.7648\n",
      "Epoch 100/100\n",
      "337/337 - 0s - loss: 0.0169 - mae: 0.1045 - val_loss: 1.0465 - val_mae: 0.7849\n"
     ]
    }
   ],
   "source": [
    "# Train the model, with some of the data reserved for validation\n",
    "history=model.fit(train_data, train_targets, epochs=100, validation_split=0.15, batch_size=64, verbose=2)\n"
   ]
  },
  {
   "cell_type": "code",
   "execution_count": 16,
   "metadata": {},
   "outputs": [
    {
     "name": "stdout",
     "output_type": "stream",
     "text": [
      "45/1 - 0s - loss: 0.5390 - mae: 0.6120\n"
     ]
    },
    {
     "data": {
      "text/plain": [
       "[0.6062186320622762, 0.611954]"
      ]
     },
     "execution_count": 16,
     "metadata": {},
     "output_type": "execute_result"
    }
   ],
   "source": [
    "# Evaluate the model on the test set\n",
    "model.evaluate(test_data, test_targets,verbose=2)\n"
   ]
  },
  {
   "cell_type": "markdown",
   "metadata": {},
   "source": [
    "#### Plot the learning curves"
   ]
  },
  {
   "cell_type": "code",
   "execution_count": 17,
   "metadata": {},
   "outputs": [],
   "source": [
    "import matplotlib.pyplot as plt\n",
    "%matplotlib inline"
   ]
  },
  {
   "cell_type": "code",
   "execution_count": 19,
   "metadata": {},
   "outputs": [
    {
     "data": {
      "image/png": "[encoded data removed]",
      "text/plain": [
       "<Figure size 432x288 with 1 Axes>"
      ]
     },
     "metadata": {
      "needs_background": "light"
     },
     "output_type": "display_data"
    }
   ],
   "source": [
    "# Plot the training and validation loss\n",
    "\n",
    "plt.plot(history.history['loss'])\n",
    "plt.plot(history.history['val_loss'])\n",
    "plt.title('Loss vs. epochs')\n",
    "plt.ylabel('Loss')\n",
    "plt.xlabel('Epoch')\n",
    "plt.legend(['Training', 'Validation'], loc='upper right')\n",
    "plt.show()"
   ]
  },
  {
   "cell_type": "markdown",
   "metadata": {},
   "source": [
    "***\n",
    "<a id=\"coding_tutorial_2\"></a>\n",
    "## Model regularisation"
   ]
  },
  {
   "cell_type": "markdown",
   "metadata": {},
   "source": [
    "#### Adding regularisation with weight decay and dropout"
   ]
  },
  {
   "cell_type": "code",
   "execution_count": 12,
   "metadata": {},
   "outputs": [],
   "source": [
    "from tensorflow.keras.layers import Dropout\n",
    "from tensorflow.keras import regularizers"
   ]
  },
  {
   "cell_type": "code",
   "execution_count": 13,
   "metadata": {},
   "outputs": [],
   "source": [
    "def get_regularised_model(wd, rate):\n",
    "    model = Sequential([\n",
    "        Dense(128, activation=\"relu\", kernel_regularizer=regularizers.l2(wd),input_shape=(train_data.shape[1],)),\n",
    "        Dropout(rate),\n",
    "        Dense(128, kernel_regularizer=regularizers.l2(wd),activation=\"relu\"),\n",
    "        Dropout(rate),\n",
    "        Dense(128, kernel_regularizer=regularizers.l2(wd),activation=\"relu\"),\n",
    "        Dropout(rate),\n",
    "        Dense(128, kernel_regularizer=regularizers.l2(wd),activation=\"relu\"),\n",
    "        Dropout(rate),\n",
    "        Dense(128, kernel_regularizer=regularizers.l2(wd),activation=\"relu\"),\n",
    "        Dropout(rate),\n",
    "        Dense(128, kernel_regularizer=regularizers.l2(wd),activation=\"relu\"),\n",
    "        Dropout(rate),\n",
    "        Dense(1)\n",
    "    ])\n",
    "    return model"
   ]
  },
  {
   "cell_type": "code",
   "execution_count": 11,
   "metadata": {},
   "outputs": [],
   "source": [
    "# Re-build the model with weight decay and dropout layers\n",
    "model=get_regularised_model(1e-5,0.3)\n"
   ]
  },
  {
   "cell_type": "code",
   "execution_count": 12,
   "metadata": {},
   "outputs": [],
   "source": [
    "# Compile the model\n",
    "model.compile(optimizer='adam',loss='mse',metrics=['mae'])\n"
   ]
  },
  {
   "cell_type": "code",
   "execution_count": 43,
   "metadata": {},
   "outputs": [
    {
     "name": "stdout",
     "output_type": "stream",
     "text": [
      "Train on 337 samples, validate on 60 samples\n",
      "Epoch 1/100\n",
      "337/337 - 2s - loss: 1.0451 - mae: 0.8681 - val_loss: 0.8609 - val_mae: 0.7862\n",
      "Epoch 2/100\n",
      "337/337 - 0s - loss: 1.0322 - mae: 0.8650 - val_loss: 0.8304 - val_mae: 0.7724\n",
      "Epoch 3/100\n",
      "337/337 - 0s - loss: 1.0049 - mae: 0.8534 - val_loss: 0.7488 - val_mae: 0.7340\n",
      "Epoch 4/100\n",
      "337/337 - 0s - loss: 0.9114 - mae: 0.8112 - val_loss: 0.5878 - val_mae: 0.6442\n",
      "Epoch 5/100\n",
      "337/337 - 0s - loss: 0.7382 - mae: 0.7189 - val_loss: 0.4962 - val_mae: 0.5870\n",
      "Epoch 6/100\n",
      "337/337 - 0s - loss: 0.6868 - mae: 0.6882 - val_loss: 0.4464 - val_mae: 0.5404\n",
      "Epoch 7/100\n",
      "337/337 - 0s - loss: 0.6466 - mae: 0.6461 - val_loss: 0.4181 - val_mae: 0.5344\n",
      "Epoch 8/100\n",
      "337/337 - 0s - loss: 0.6120 - mae: 0.6417 - val_loss: 0.5346 - val_mae: 0.6179\n",
      "Epoch 9/100\n",
      "337/337 - 0s - loss: 0.6125 - mae: 0.6491 - val_loss: 0.4407 - val_mae: 0.5567\n",
      "Epoch 10/100\n",
      "337/337 - 0s - loss: 0.5917 - mae: 0.6291 - val_loss: 0.4885 - val_mae: 0.5855\n",
      "Epoch 11/100\n",
      "337/337 - 0s - loss: 0.5902 - mae: 0.6334 - val_loss: 0.4646 - val_mae: 0.5663\n",
      "Epoch 12/100\n",
      "337/337 - 0s - loss: 0.5459 - mae: 0.6017 - val_loss: 0.4460 - val_mae: 0.5549\n",
      "Epoch 13/100\n",
      "337/337 - 0s - loss: 0.5610 - mae: 0.5976 - val_loss: 0.4743 - val_mae: 0.5684\n",
      "Epoch 14/100\n",
      "337/337 - 0s - loss: 0.5787 - mae: 0.6123 - val_loss: 0.4470 - val_mae: 0.5588\n",
      "Epoch 15/100\n",
      "337/337 - 0s - loss: 0.5196 - mae: 0.5914 - val_loss: 0.4545 - val_mae: 0.5650\n",
      "Epoch 16/100\n",
      "337/337 - 0s - loss: 0.5116 - mae: 0.5783 - val_loss: 0.4564 - val_mae: 0.5640\n",
      "Epoch 17/100\n",
      "337/337 - 0s - loss: 0.5114 - mae: 0.5715 - val_loss: 0.4694 - val_mae: 0.5720\n",
      "Epoch 18/100\n",
      "337/337 - 0s - loss: 0.4977 - mae: 0.5590 - val_loss: 0.5276 - val_mae: 0.6010\n",
      "Epoch 19/100\n",
      "337/337 - 0s - loss: 0.5338 - mae: 0.5924 - val_loss: 0.4767 - val_mae: 0.5671\n",
      "Epoch 20/100\n",
      "337/337 - 0s - loss: 0.5270 - mae: 0.5830 - val_loss: 0.4849 - val_mae: 0.5795\n",
      "Epoch 21/100\n",
      "337/337 - 0s - loss: 0.5094 - mae: 0.5715 - val_loss: 0.5028 - val_mae: 0.5861\n",
      "Epoch 22/100\n",
      "337/337 - 0s - loss: 0.5068 - mae: 0.5696 - val_loss: 0.4733 - val_mae: 0.5710\n",
      "Epoch 23/100\n",
      "337/337 - 0s - loss: 0.5129 - mae: 0.5716 - val_loss: 0.4814 - val_mae: 0.5770\n",
      "Epoch 24/100\n",
      "337/337 - 0s - loss: 0.5190 - mae: 0.5785 - val_loss: 0.4858 - val_mae: 0.5846\n",
      "Epoch 25/100\n",
      "337/337 - 0s - loss: 0.5077 - mae: 0.5804 - val_loss: 0.4573 - val_mae: 0.5644\n",
      "Epoch 26/100\n",
      "337/337 - 0s - loss: 0.5113 - mae: 0.5663 - val_loss: 0.4525 - val_mae: 0.5617\n",
      "Epoch 27/100\n",
      "337/337 - 0s - loss: 0.5015 - mae: 0.5630 - val_loss: 0.4783 - val_mae: 0.5783\n",
      "Epoch 28/100\n",
      "337/337 - 0s - loss: 0.4781 - mae: 0.5617 - val_loss: 0.4764 - val_mae: 0.5725\n",
      "Epoch 29/100\n",
      "337/337 - 0s - loss: 0.4950 - mae: 0.5583 - val_loss: 0.4894 - val_mae: 0.5839\n",
      "Epoch 30/100\n",
      "337/337 - 0s - loss: 0.4749 - mae: 0.5365 - val_loss: 0.4766 - val_mae: 0.5780\n",
      "Epoch 31/100\n",
      "337/337 - 0s - loss: 0.4831 - mae: 0.5568 - val_loss: 0.4617 - val_mae: 0.5664\n",
      "Epoch 32/100\n",
      "337/337 - 0s - loss: 0.4757 - mae: 0.5459 - val_loss: 0.5231 - val_mae: 0.5863\n",
      "Epoch 33/100\n",
      "337/337 - 0s - loss: 0.5102 - mae: 0.5653 - val_loss: 0.4738 - val_mae: 0.5725\n",
      "Epoch 34/100\n",
      "337/337 - 0s - loss: 0.4575 - mae: 0.5432 - val_loss: 0.4927 - val_mae: 0.5881\n",
      "Epoch 35/100\n",
      "337/337 - 0s - loss: 0.5205 - mae: 0.5675 - val_loss: 0.5014 - val_mae: 0.5888\n",
      "Epoch 36/100\n",
      "337/337 - 0s - loss: 0.4754 - mae: 0.5524 - val_loss: 0.4846 - val_mae: 0.5789\n",
      "Epoch 37/100\n",
      "337/337 - 0s - loss: 0.4820 - mae: 0.5424 - val_loss: 0.4863 - val_mae: 0.5767\n",
      "Epoch 38/100\n",
      "337/337 - 0s - loss: 0.4481 - mae: 0.5239 - val_loss: 0.4994 - val_mae: 0.5928\n",
      "Epoch 39/100\n",
      "337/337 - 0s - loss: 0.4744 - mae: 0.5540 - val_loss: 0.4858 - val_mae: 0.5862\n",
      "Epoch 40/100\n",
      "337/337 - 0s - loss: 0.4682 - mae: 0.5425 - val_loss: 0.4880 - val_mae: 0.5880\n",
      "Epoch 41/100\n",
      "337/337 - 0s - loss: 0.4558 - mae: 0.5279 - val_loss: 0.5024 - val_mae: 0.5885\n",
      "Epoch 42/100\n",
      "337/337 - 0s - loss: 0.4724 - mae: 0.5479 - val_loss: 0.4825 - val_mae: 0.5794\n",
      "Epoch 43/100\n",
      "337/337 - 0s - loss: 0.4690 - mae: 0.5461 - val_loss: 0.4780 - val_mae: 0.5746\n",
      "Epoch 44/100\n",
      "337/337 - 0s - loss: 0.4713 - mae: 0.5439 - val_loss: 0.5000 - val_mae: 0.5842\n",
      "Epoch 45/100\n",
      "337/337 - 0s - loss: 0.4982 - mae: 0.5432 - val_loss: 0.5049 - val_mae: 0.5892\n",
      "Epoch 46/100\n",
      "337/337 - 0s - loss: 0.4719 - mae: 0.5391 - val_loss: 0.5491 - val_mae: 0.6272\n",
      "Epoch 47/100\n",
      "337/337 - 0s - loss: 0.4685 - mae: 0.5544 - val_loss: 0.5649 - val_mae: 0.6236\n",
      "Epoch 48/100\n",
      "337/337 - 0s - loss: 0.4730 - mae: 0.5401 - val_loss: 0.4903 - val_mae: 0.5706\n",
      "Epoch 49/100\n",
      "337/337 - 0s - loss: 0.4908 - mae: 0.5421 - val_loss: 0.5024 - val_mae: 0.6005\n",
      "Epoch 50/100\n",
      "337/337 - 0s - loss: 0.4810 - mae: 0.5611 - val_loss: 0.4876 - val_mae: 0.5826\n",
      "Epoch 51/100\n",
      "337/337 - 0s - loss: 0.4690 - mae: 0.5488 - val_loss: 0.4685 - val_mae: 0.5711\n",
      "Epoch 52/100\n",
      "337/337 - 0s - loss: 0.4512 - mae: 0.5272 - val_loss: 0.5000 - val_mae: 0.5911\n",
      "Epoch 53/100\n",
      "337/337 - 0s - loss: 0.4465 - mae: 0.5342 - val_loss: 0.4851 - val_mae: 0.5841\n",
      "Epoch 54/100\n",
      "337/337 - 0s - loss: 0.4141 - mae: 0.5056 - val_loss: 0.5093 - val_mae: 0.6007\n",
      "Epoch 55/100\n",
      "337/337 - 0s - loss: 0.4477 - mae: 0.5364 - val_loss: 0.4988 - val_mae: 0.5846\n",
      "Epoch 56/100\n",
      "337/337 - 0s - loss: 0.4134 - mae: 0.5101 - val_loss: 0.5078 - val_mae: 0.5945\n",
      "Epoch 57/100\n",
      "337/337 - 0s - loss: 0.4258 - mae: 0.5207 - val_loss: 0.5162 - val_mae: 0.5922\n",
      "Epoch 58/100\n",
      "337/337 - 0s - loss: 0.4594 - mae: 0.5328 - val_loss: 0.5266 - val_mae: 0.6040\n",
      "Epoch 59/100\n",
      "337/337 - 0s - loss: 0.3893 - mae: 0.4843 - val_loss: 0.5346 - val_mae: 0.6083\n",
      "Epoch 60/100\n",
      "337/337 - 0s - loss: 0.4056 - mae: 0.5069 - val_loss: 0.5452 - val_mae: 0.6161\n",
      "Epoch 61/100\n",
      "337/337 - 0s - loss: 0.4296 - mae: 0.5122 - val_loss: 0.5397 - val_mae: 0.6109\n",
      "Epoch 62/100\n",
      "337/337 - 0s - loss: 0.4221 - mae: 0.5123 - val_loss: 0.4881 - val_mae: 0.5624\n",
      "Epoch 63/100\n",
      "337/337 - 0s - loss: 0.4217 - mae: 0.5210 - val_loss: 0.5244 - val_mae: 0.6039\n",
      "Epoch 64/100\n",
      "337/337 - 0s - loss: 0.4572 - mae: 0.5251 - val_loss: 0.5068 - val_mae: 0.5859\n",
      "Epoch 65/100\n",
      "337/337 - 0s - loss: 0.4526 - mae: 0.5372 - val_loss: 0.5359 - val_mae: 0.6171\n",
      "Epoch 66/100\n",
      "337/337 - 0s - loss: 0.4315 - mae: 0.5181 - val_loss: 0.5374 - val_mae: 0.6103\n",
      "Epoch 67/100\n",
      "337/337 - 0s - loss: 0.4300 - mae: 0.5135 - val_loss: 0.5022 - val_mae: 0.5846\n",
      "Epoch 68/100\n",
      "337/337 - 0s - loss: 0.4074 - mae: 0.5011 - val_loss: 0.5143 - val_mae: 0.5987\n",
      "Epoch 69/100\n",
      "337/337 - 0s - loss: 0.4257 - mae: 0.5255 - val_loss: 0.5123 - val_mae: 0.5944\n",
      "Epoch 70/100\n",
      "337/337 - 0s - loss: 0.4556 - mae: 0.5189 - val_loss: 0.5325 - val_mae: 0.6024\n",
      "Epoch 71/100\n",
      "337/337 - 0s - loss: 0.4452 - mae: 0.5373 - val_loss: 0.5282 - val_mae: 0.6002\n",
      "Epoch 72/100\n",
      "337/337 - 0s - loss: 0.4454 - mae: 0.5208 - val_loss: 0.5224 - val_mae: 0.5942\n",
      "Epoch 73/100\n",
      "337/337 - 0s - loss: 0.4381 - mae: 0.5164 - val_loss: 0.5917 - val_mae: 0.6409\n",
      "Epoch 74/100\n",
      "337/337 - 0s - loss: 0.4031 - mae: 0.4921 - val_loss: 0.5387 - val_mae: 0.5983\n",
      "Epoch 75/100\n",
      "337/337 - 0s - loss: 0.3696 - mae: 0.4732 - val_loss: 0.6039 - val_mae: 0.6345\n",
      "Epoch 76/100\n",
      "337/337 - 0s - loss: 0.3919 - mae: 0.4896 - val_loss: 0.5885 - val_mae: 0.6257\n",
      "Epoch 77/100\n",
      "337/337 - 0s - loss: 0.3707 - mae: 0.4736 - val_loss: 0.5892 - val_mae: 0.6331\n",
      "Epoch 78/100\n",
      "337/337 - 0s - loss: 0.4069 - mae: 0.4992 - val_loss: 0.5764 - val_mae: 0.6190\n",
      "Epoch 79/100\n",
      "337/337 - 0s - loss: 0.3800 - mae: 0.4815 - val_loss: 0.5902 - val_mae: 0.6373\n",
      "Epoch 80/100\n",
      "337/337 - 0s - loss: 0.4018 - mae: 0.5106 - val_loss: 0.5355 - val_mae: 0.5901\n",
      "Epoch 81/100\n",
      "337/337 - 0s - loss: 0.3988 - mae: 0.4888 - val_loss: 0.5703 - val_mae: 0.6261\n",
      "Epoch 82/100\n",
      "337/337 - 0s - loss: 0.3865 - mae: 0.4847 - val_loss: 0.5416 - val_mae: 0.5906\n",
      "Epoch 83/100\n",
      "337/337 - 0s - loss: 0.3921 - mae: 0.4863 - val_loss: 0.5918 - val_mae: 0.6425\n",
      "Epoch 84/100\n",
      "337/337 - 0s - loss: 0.4092 - mae: 0.4958 - val_loss: 0.5410 - val_mae: 0.6082\n",
      "Epoch 85/100\n",
      "337/337 - 0s - loss: 0.3712 - mae: 0.4814 - val_loss: 0.5434 - val_mae: 0.6022\n",
      "Epoch 86/100\n",
      "337/337 - 0s - loss: 0.3625 - mae: 0.4698 - val_loss: 0.5474 - val_mae: 0.6065\n",
      "Epoch 87/100\n",
      "337/337 - 0s - loss: 0.3849 - mae: 0.4810 - val_loss: 0.5495 - val_mae: 0.5946\n",
      "Epoch 88/100\n",
      "337/337 - 0s - loss: 0.3683 - mae: 0.4701 - val_loss: 0.5821 - val_mae: 0.6293\n",
      "Epoch 89/100\n",
      "337/337 - 0s - loss: 0.3746 - mae: 0.4718 - val_loss: 0.5707 - val_mae: 0.6064\n"
     ]
    },
    {
     "name": "stdout",
     "output_type": "stream",
     "text": [
      "Epoch 90/100\n",
      "337/337 - 0s - loss: 0.3630 - mae: 0.4663 - val_loss: 0.5807 - val_mae: 0.6277\n",
      "Epoch 91/100\n",
      "337/337 - 0s - loss: 0.3545 - mae: 0.4648 - val_loss: 0.5928 - val_mae: 0.6222\n",
      "Epoch 92/100\n",
      "337/337 - 0s - loss: 0.3953 - mae: 0.4764 - val_loss: 0.5624 - val_mae: 0.6137\n",
      "Epoch 93/100\n",
      "337/337 - 0s - loss: 0.3470 - mae: 0.4562 - val_loss: 0.5615 - val_mae: 0.6158\n",
      "Epoch 94/100\n",
      "337/337 - 0s - loss: 0.3620 - mae: 0.4703 - val_loss: 0.5826 - val_mae: 0.6266\n",
      "Epoch 95/100\n",
      "337/337 - 0s - loss: 0.3838 - mae: 0.4919 - val_loss: 0.5546 - val_mae: 0.6132\n",
      "Epoch 96/100\n",
      "337/337 - 0s - loss: 0.3611 - mae: 0.4636 - val_loss: 0.5426 - val_mae: 0.5996\n",
      "Epoch 97/100\n",
      "337/337 - 0s - loss: 0.3527 - mae: 0.4605 - val_loss: 0.6334 - val_mae: 0.6640\n",
      "Epoch 98/100\n",
      "337/337 - 0s - loss: 0.3829 - mae: 0.4747 - val_loss: 0.5904 - val_mae: 0.6300\n",
      "Epoch 99/100\n",
      "337/337 - 0s - loss: 0.3838 - mae: 0.4784 - val_loss: 0.5871 - val_mae: 0.6363\n",
      "Epoch 100/100\n",
      "337/337 - 0s - loss: 0.3638 - mae: 0.4683 - val_loss: 0.5644 - val_mae: 0.6212\n"
     ]
    }
   ],
   "source": [
    "# Train the model, with some of the data reserved for validation\n",
    "history=model.fit(train_data,train_targets,epochs=100,\n",
    "         validation_split=0.15, batch_size=64, verbose=2)\n"
   ]
  },
  {
   "cell_type": "code",
   "execution_count": 44,
   "metadata": {},
   "outputs": [
    {
     "name": "stdout",
     "output_type": "stream",
     "text": [
      "45/1 - 0s - loss: 0.4873 - mae: 0.5266\n"
     ]
    },
    {
     "data": {
      "text/plain": [
       "[0.42223157352871366, 0.5266151]"
      ]
     },
     "execution_count": 44,
     "metadata": {},
     "output_type": "execute_result"
    }
   ],
   "source": [
    "# Evaluate the model on the test set\n",
    "model.evaluate(test_data,test_targets,verbose=2)\n"
   ]
  },
  {
   "cell_type": "markdown",
   "metadata": {},
   "source": [
    "#### Plot the learning curves"
   ]
  },
  {
   "cell_type": "code",
   "execution_count": 45,
   "metadata": {},
   "outputs": [
    {
     "data": {
      "image/png": "[encoded data removed]",
      "text/plain": [
       "<Figure size 432x288 with 1 Axes>"
      ]
     },
     "metadata": {
      "needs_background": "light"
     },
     "output_type": "display_data"
    }
   ],
   "source": [
    "# Plot the training and validation loss\n",
    "\n",
    "import matplotlib.pyplot as plt\n",
    "\n",
    "plt.plot(history.history['loss'])\n",
    "plt.plot(history.history['val_loss'])\n",
    "plt.title('Loss vs. epochs')\n",
    "plt.ylabel('Loss')\n",
    "plt.xlabel('Epoch')\n",
    "plt.legend(['Training', 'Validation'], loc='upper right')\n",
    "plt.show()"
   ]
  },
  {
   "cell_type": "markdown",
   "metadata": {},
   "source": [
    "***\n",
    "<a id=\"coding_tutorial_3\"></a>\n",
    "## Introduction to callbacks"
   ]
  },
  {
   "cell_type": "markdown",
   "metadata": {},
   "source": [
    "#### Example training callback"
   ]
  },
  {
   "cell_type": "code",
   "execution_count": 18,
   "metadata": {},
   "outputs": [],
   "source": [
    "# Write a custom callback\n",
    "from tensorflow.keras.callbacks import Callback\n",
    "\n",
    "class TrainingCallback(Callback):\n",
    "    \n",
    "    def on_train_begin(self, logs=None):\n",
    "        print(\"Starting training...\")\n",
    "    \n",
    "    def on_epoch_begin(self,epoch,logs=None):\n",
    "        print(f\"Training: Starting epoch {epoch}\")\n",
    "        \n",
    "    def on_train_batch_begin(self,batch, logs=None):\n",
    "        print(f\"Training: Starting batch {batch}\")\n",
    "        \n",
    "    def on_train_batch_end(self,batch, logs=None):\n",
    "        print(f\"Training: Finished batch {batch}\")\n",
    "        \n",
    "    def on_epoch_end(self,epoch,logs=None):\n",
    "        print(f\"Training: Finished epoch {epoch}\")\n",
    "        \n",
    "    def on_train_end(self, logs=None):\n",
    "        print(\"Finished training!\")\n"
   ]
  },
  {
   "cell_type": "code",
   "execution_count": 22,
   "metadata": {},
   "outputs": [],
   "source": [
    "# Re-build the model\n",
    "model=get_regularised_model(1e-5, 0.3)\n"
   ]
  },
  {
   "cell_type": "code",
   "execution_count": 23,
   "metadata": {},
   "outputs": [],
   "source": [
    "# Compile the model\n",
    "model.compile(optimizer='adam',loss='mse')\n"
   ]
  },
  {
   "cell_type": "markdown",
   "metadata": {},
   "source": [
    "#### Train the model with the callback"
   ]
  },
  {
   "cell_type": "code",
   "execution_count": 24,
   "metadata": {},
   "outputs": [
    {
     "name": "stdout",
     "output_type": "stream",
     "text": [
      "Starting training...\n",
      "Training: Starting epoch 0\n",
      "Training: Starting batch 0\n",
      "Training: Finished batch 0\n",
      "Training: Starting batch 1\n",
      "Training: Finished batch 1\n",
      "Training: Starting batch 2\n",
      "Training: Finished batch 2\n",
      "Training: Starting batch 3\n",
      "Training: Finished batch 3\n",
      "Training: Finished epoch 0\n",
      "Training: Starting epoch 1\n",
      "Training: Starting batch 0\n",
      "Training: Finished batch 0\n",
      "Training: Starting batch 1\n",
      "Training: Finished batch 1\n",
      "Training: Starting batch 2\n",
      "Training: Finished batch 2\n",
      "Training: Starting batch 3\n",
      "Training: Finished batch 3\n",
      "Training: Finished epoch 1\n",
      "Training: Starting epoch 2\n",
      "Training: Starting batch 0\n",
      "Training: Finished batch 0\n",
      "Training: Starting batch 1\n",
      "Training: Finished batch 1\n",
      "Training: Starting batch 2\n",
      "Training: Finished batch 2\n",
      "Training: Starting batch 3\n",
      "Training: Finished batch 3\n",
      "Training: Finished epoch 2\n",
      "Finished training!\n"
     ]
    },
    {
     "data": {
      "text/plain": [
       "<tensorflow.python.keras.callbacks.History at 0x7fd7289119e8>"
      ]
     },
     "execution_count": 24,
     "metadata": {},
     "output_type": "execute_result"
    }
   ],
   "source": [
    "# Train the model, with some of the data reserved for validation\n",
    "model.fit(train_data,train_targets,epochs=3, batch_size=128, verbose=0, callbacks=[TrainingCallback()])\n"
   ]
  },
  {
   "cell_type": "code",
   "execution_count": 25,
   "metadata": {},
   "outputs": [
    {
     "name": "stdout",
     "output_type": "stream",
     "text": [
      "Starting testing...\n",
      "Testing: Starting batch 0\n",
      "Testing: Finished batch 0\n",
      "Testing: Starting batch 1\n",
      "Testing: Finished batch 1\n",
      "Finished testing!\n"
     ]
    },
    {
     "data": {
      "text/plain": [
       "0.8078154120180342"
      ]
     },
     "execution_count": 25,
     "metadata": {},
     "output_type": "execute_result"
    }
   ],
   "source": [
    "# Evaluate the model\n",
    "class TestingCallback(Callback):\n",
    "    \n",
    "    def on_test_begin(self, logs=None):\n",
    "        print(\"Starting testing...\")\n",
    "    \n",
    "    def on_test_batch_begin(self,batch, logs=None):\n",
    "        print(f\"Testing: Starting batch {batch}\")\n",
    "        \n",
    "    def on_test_batch_end(self,batch, logs=None):\n",
    "        print(f\"Testing: Finished batch {batch}\")\n",
    "        \n",
    "    def on_test_end(self, logs=None):\n",
    "        print(\"Finished testing!\")\n",
    "        \n",
    "model.evaluate(test_data,test_targets,verbose=0,callbacks=[TestingCallback()])\n"
   ]
  },
  {
   "cell_type": "code",
   "execution_count": 26,
   "metadata": {},
   "outputs": [
    {
     "name": "stdout",
     "output_type": "stream",
     "text": [
      "Starting prediction...\n",
      "Prediction: Starting batch 0\n",
      "Prediction: Finished batch 0\n",
      "Prediction: Starting batch 1\n",
      "Prediction: Finished batch 1\n",
      "Finished prediction!\n"
     ]
    },
    {
     "data": {
      "text/plain": [
       "array([[-0.04391373],\n",
       "       [ 0.04330269],\n",
       "       [ 0.11698695],\n",
       "       [ 0.10980383],\n",
       "       [-0.06978577],\n",
       "       [ 0.01927187],\n",
       "       [-0.06727215],\n",
       "       [-0.04809001],\n",
       "       [ 0.03759479],\n",
       "       [ 0.09863643],\n",
       "       [ 0.04647472],\n",
       "       [ 0.08554997],\n",
       "       [ 0.14359525],\n",
       "       [-0.01867247],\n",
       "       [ 0.15670069],\n",
       "       [ 0.11469959],\n",
       "       [ 0.10556058],\n",
       "       [-0.04697593],\n",
       "       [ 0.09316707],\n",
       "       [ 0.01752669],\n",
       "       [-0.02787141],\n",
       "       [-0.05912691],\n",
       "       [ 0.00945122],\n",
       "       [-0.05516326],\n",
       "       [-0.06137125],\n",
       "       [ 0.09888145],\n",
       "       [ 0.05152766],\n",
       "       [ 0.05429887],\n",
       "       [-0.05036332],\n",
       "       [ 0.11563343],\n",
       "       [-0.04893747],\n",
       "       [ 0.06531253],\n",
       "       [ 0.01513608],\n",
       "       [ 0.0908623 ],\n",
       "       [-0.04369934],\n",
       "       [ 0.13447347],\n",
       "       [ 0.02363477],\n",
       "       [-0.04314851],\n",
       "       [ 0.10426196],\n",
       "       [ 0.00567603],\n",
       "       [-0.02096766],\n",
       "       [-0.07565626],\n",
       "       [-0.06626256],\n",
       "       [-0.03475565],\n",
       "       [ 0.05778319]], dtype=float32)"
      ]
     },
     "execution_count": 26,
     "metadata": {},
     "output_type": "execute_result"
    }
   ],
   "source": [
    "# Make predictions with the model\n",
    "class PredictionCallback(Callback):\n",
    "    \n",
    "    def on_predict_begin(self, logs=None):\n",
    "        print(\"Starting prediction...\")\n",
    "    \n",
    "    def on_predict_batch_begin(self,batch, logs=None):\n",
    "        print(f\"Prediction: Starting batch {batch}\")\n",
    "        \n",
    "    def on_predict_batch_end(self,batch, logs=None):\n",
    "        print(f\"Prediction: Finished batch {batch}\")\n",
    "        \n",
    "    def on_predict_end(self, logs=None):\n",
    "        print(\"Finished prediction!\")\n",
    "\n",
    "model.predict(test_data,verbose=0, callbacks=[PredictionCallback()])"
   ]
  },
  {
   "cell_type": "markdown",
   "metadata": {},
   "source": [
    "***\n",
    "<a id=\"coding_tutorial_4\"></a>\n",
    "## Early stopping / patience"
   ]
  },
  {
   "cell_type": "markdown",
   "metadata": {},
   "source": [
    "#### Re-train the models with early stopping"
   ]
  },
  {
   "cell_type": "code",
   "execution_count": 26,
   "metadata": {},
   "outputs": [],
   "source": [
    "# Re-train the unregularised model\n",
    "unregularised_model=get_model()\n",
    "unregularised_model.compile(optimizer='adam', loss='mse')\n",
    "unreg_history=unregularised_model.fit(train_data,train_targets, epochs=100,\n",
    "                                     validation_split=0.15, batch_size=64,\n",
    "                                     verbose=0, callbacks=[tf.keras.callbacks.EarlyStopping(patience=2)])\n"
   ]
  },
  {
   "cell_type": "code",
   "execution_count": 27,
   "metadata": {},
   "outputs": [
    {
     "name": "stdout",
     "output_type": "stream",
     "text": [
      "45/1 - 0s - loss: 0.6492\n"
     ]
    },
    {
     "data": {
      "text/plain": [
       "0.5675164116753473"
      ]
     },
     "execution_count": 27,
     "metadata": {},
     "output_type": "execute_result"
    }
   ],
   "source": [
    "# Evaluate the model on the test set\n",
    "unregularised_model.evaluate(test_data,test_targets,verbose=2)\n"
   ]
  },
  {
   "cell_type": "code",
   "execution_count": 24,
   "metadata": {},
   "outputs": [],
   "source": [
    "# Re-train the regularised model\n",
    "regularised_model=get_regularised_model(1e-8,0.2)\n",
    "regularised_model.compile(optimizer='adam', loss='mse')\n",
    "reg_history=regularised_model.fit(train_data,train_targets,epochs=100,\n",
    "                                 validation_split=0.15, batch_size=64, verbose=0,\n",
    "                                 callbacks=[tf.keras.callbacks.EarlyStopping(patience=2)])"
   ]
  },
  {
   "cell_type": "code",
   "execution_count": 28,
   "metadata": {},
   "outputs": [
    {
     "name": "stdout",
     "output_type": "stream",
     "text": [
      "45/1 - 0s - loss: 0.6686\n"
     ]
    },
    {
     "data": {
      "text/plain": [
       "0.5159734222624037"
      ]
     },
     "execution_count": 28,
     "metadata": {},
     "output_type": "execute_result"
    }
   ],
   "source": [
    "# Evaluate the model on the test set\n",
    "regularised_model.evaluate(test_data,test_targets,verbose=2)\n"
   ]
  },
  {
   "cell_type": "markdown",
   "metadata": {},
   "source": [
    "#### Plot the learning curves"
   ]
  },
  {
   "cell_type": "code",
   "execution_count": 29,
   "metadata": {},
   "outputs": [
    {
     "data": {
      "image/png": "[encoded data removed]",
      "text/plain": [
       "<Figure size 864x360 with 2 Axes>"
      ]
     },
     "metadata": {
      "needs_background": "light"
     },
     "output_type": "display_data"
    }
   ],
   "source": [
    "# Plot the training and validation loss\n",
    "\n",
    "import matplotlib.pyplot as plt\n",
    "\n",
    "fig = plt.figure(figsize=(12, 5))\n",
    "\n",
    "fig.add_subplot(121)\n",
    "\n",
    "plt.plot(unreg_history.history['loss'])\n",
    "plt.plot(unreg_history.history['val_loss'])\n",
    "plt.title('Unregularised model: loss vs. epochs')\n",
    "plt.ylabel('Loss')\n",
    "plt.xlabel('Epoch')\n",
    "plt.legend(['Training', 'Validation'], loc='upper right')\n",
    "\n",
    "fig.add_subplot(122)\n",
    "\n",
    "plt.plot(reg_history.history['loss'])\n",
    "plt.plot(reg_history.history['val_loss'])\n",
    "plt.title('Regularised model: loss vs. epochs')\n",
    "plt.ylabel('Loss')\n",
    "plt.xlabel('Epoch')\n",
    "plt.legend(['Training', 'Validation'], loc='upper right')\n",
    "\n",
    "plt.show()"
   ]
  }
 ],
 "metadata": {
  "kernelspec": {
   "display_name": "Python 3",
   "language": "python",
   "name": "python3"
  },
  "language_info": {
   "codemirror_mode": {
    "name": "ipython",
    "version": 3
   },
   "file_extension": ".py",
   "mimetype": "text/x-python",
   "name": "python",
   "nbconvert_exporter": "python",
   "pygments_lexer": "ipython3",
   "version": "3.7.1"
  }
 },
 "nbformat": 4,
 "nbformat_minor": 2
}
